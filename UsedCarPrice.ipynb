{
 "cells": [
  {
   "cell_type": "code",
   "execution_count": 1,
   "id": "da7ec6f9",
   "metadata": {},
   "outputs": [],
   "source": [
    "import pandas as pd\n",
    "import numpy as np\n",
    "import seaborn as sns\n",
    "sns.set_style('darkgrid')\n",
    "import matplotlib.pyplot as plt\n",
    "import warnings\n",
    "warnings.filterwarnings('ignore')\n",
    "%matplotlib inline"
   ]
  },
  {
   "cell_type": "code",
   "execution_count": 2,
   "id": "dd68fc5c",
   "metadata": {},
   "outputs": [],
   "source": [
    "df = pd.read_csv(\"cars24_data.csv\")"
   ]
  },
  {
   "cell_type": "code",
   "execution_count": 3,
   "id": "685f3c0b",
   "metadata": {
    "scrolled": true
   },
   "outputs": [
    {
     "data": {
      "text/html": [
       "<div>\n",
       "<style scoped>\n",
       "    .dataframe tbody tr th:only-of-type {\n",
       "        vertical-align: middle;\n",
       "    }\n",
       "\n",
       "    .dataframe tbody tr th {\n",
       "        vertical-align: top;\n",
       "    }\n",
       "\n",
       "    .dataframe thead th {\n",
       "        text-align: right;\n",
       "    }\n",
       "</style>\n",
       "<table border=\"1\" class=\"dataframe\">\n",
       "  <thead>\n",
       "    <tr style=\"text-align: right;\">\n",
       "      <th></th>\n",
       "      <th>Unnamed: 0</th>\n",
       "      <th>Car Name</th>\n",
       "      <th>Price</th>\n",
       "      <th>EMI</th>\n",
       "      <th>Features</th>\n",
       "      <th>Location</th>\n",
       "      <th>Car Brand</th>\n",
       "      <th>Model</th>\n",
       "      <th>Model Year</th>\n",
       "      <th>Gear</th>\n",
       "      <th>Driven (Kms)</th>\n",
       "      <th>Ownership</th>\n",
       "      <th>Fuel</th>\n",
       "      <th>EMI (monthly)</th>\n",
       "    </tr>\n",
       "  </thead>\n",
       "  <tbody>\n",
       "    <tr>\n",
       "      <th>0</th>\n",
       "      <td>0</td>\n",
       "      <td>2016 Maruti BalenoZETA 1.2 K12 Manual</td>\n",
       "      <td>6,21,899</td>\n",
       "      <td>â‚¹13,834/month</td>\n",
       "      <td>1,03,354 km\\n1st Owner\\nPetrol</td>\n",
       "      <td>Hyderabad</td>\n",
       "      <td>Maruti</td>\n",
       "      <td>['BalenoZETA 1.2 K12']</td>\n",
       "      <td>2016</td>\n",
       "      <td>['Manual']</td>\n",
       "      <td>1,03,354</td>\n",
       "      <td>1</td>\n",
       "      <td>Petrol</td>\n",
       "      <td>13,834</td>\n",
       "    </tr>\n",
       "    <tr>\n",
       "      <th>1</th>\n",
       "      <td>1</td>\n",
       "      <td>2015 Honda Jazz1.2 V AT Automatic</td>\n",
       "      <td>5,24,199</td>\n",
       "      <td>â‚¹11,661/month</td>\n",
       "      <td>65,571 km\\n2nd Owner\\nPetrol</td>\n",
       "      <td>Hyderabad</td>\n",
       "      <td>Honda</td>\n",
       "      <td>['Jazz1.2 V AT']</td>\n",
       "      <td>2015</td>\n",
       "      <td>['Automatic']</td>\n",
       "      <td>65,571</td>\n",
       "      <td>2</td>\n",
       "      <td>Petrol</td>\n",
       "      <td>11,661</td>\n",
       "    </tr>\n",
       "    <tr>\n",
       "      <th>2</th>\n",
       "      <td>2</td>\n",
       "      <td>2012 Maruti SwiftZDI Manual</td>\n",
       "      <td>4,76,699</td>\n",
       "      <td>â‚¹10,604/month</td>\n",
       "      <td>78,819 km\\n2nd Owner\\nDiesel</td>\n",
       "      <td>Hyderabad</td>\n",
       "      <td>Maruti</td>\n",
       "      <td>['SwiftZDI']</td>\n",
       "      <td>2012</td>\n",
       "      <td>['Manual']</td>\n",
       "      <td>78,819</td>\n",
       "      <td>2</td>\n",
       "      <td>Diesel</td>\n",
       "      <td>10,604</td>\n",
       "    </tr>\n",
       "    <tr>\n",
       "      <th>3</th>\n",
       "      <td>3</td>\n",
       "      <td>2016 Maruti Alto 800LXI Manual</td>\n",
       "      <td>2,95,499</td>\n",
       "      <td>â‚¹6,573/month</td>\n",
       "      <td>20,215 km\\n2nd Owner\\nPetrol</td>\n",
       "      <td>Hyderabad</td>\n",
       "      <td>Maruti</td>\n",
       "      <td>['Alto 800LXI']</td>\n",
       "      <td>2016</td>\n",
       "      <td>['Manual']</td>\n",
       "      <td>20,215</td>\n",
       "      <td>2</td>\n",
       "      <td>Petrol</td>\n",
       "      <td>6,573</td>\n",
       "    </tr>\n",
       "    <tr>\n",
       "      <th>4</th>\n",
       "      <td>4</td>\n",
       "      <td>2010 Hyundai i20SPORTZ 1.2 O Manual</td>\n",
       "      <td>3,78,299</td>\n",
       "      <td>â‚¹8,415/month</td>\n",
       "      <td>79,222 km\\n2nd Owner\\nPetrol</td>\n",
       "      <td>Hyderabad</td>\n",
       "      <td>Hyundai</td>\n",
       "      <td>['i20SPORTZ 1.2 O']</td>\n",
       "      <td>2010</td>\n",
       "      <td>['Manual']</td>\n",
       "      <td>79,222</td>\n",
       "      <td>2</td>\n",
       "      <td>Petrol</td>\n",
       "      <td>8,415</td>\n",
       "    </tr>\n",
       "  </tbody>\n",
       "</table>\n",
       "</div>"
      ],
      "text/plain": [
       "   Unnamed: 0                               Car Name     Price  \\\n",
       "0           0  2016 Maruti BalenoZETA 1.2 K12 Manual  6,21,899   \n",
       "1           1      2015 Honda Jazz1.2 V AT Automatic  5,24,199   \n",
       "2           2            2012 Maruti SwiftZDI Manual  4,76,699   \n",
       "3           3         2016 Maruti Alto 800LXI Manual  2,95,499   \n",
       "4           4    2010 Hyundai i20SPORTZ 1.2 O Manual  3,78,299   \n",
       "\n",
       "               EMI                        Features   Location Car Brand  \\\n",
       "0  â‚¹13,834/month  1,03,354 km\\n1st Owner\\nPetrol  Hyderabad    Maruti   \n",
       "1  â‚¹11,661/month    65,571 km\\n2nd Owner\\nPetrol  Hyderabad     Honda   \n",
       "2  â‚¹10,604/month    78,819 km\\n2nd Owner\\nDiesel  Hyderabad    Maruti   \n",
       "3   â‚¹6,573/month    20,215 km\\n2nd Owner\\nPetrol  Hyderabad    Maruti   \n",
       "4   â‚¹8,415/month    79,222 km\\n2nd Owner\\nPetrol  Hyderabad   Hyundai   \n",
       "\n",
       "                    Model  Model Year           Gear Driven (Kms)  Ownership  \\\n",
       "0  ['BalenoZETA 1.2 K12']        2016     ['Manual']     1,03,354          1   \n",
       "1        ['Jazz1.2 V AT']        2015  ['Automatic']       65,571          2   \n",
       "2            ['SwiftZDI']        2012     ['Manual']       78,819          2   \n",
       "3         ['Alto 800LXI']        2016     ['Manual']       20,215          2   \n",
       "4     ['i20SPORTZ 1.2 O']        2010     ['Manual']       79,222          2   \n",
       "\n",
       "     Fuel EMI (monthly)  \n",
       "0  Petrol        13,834  \n",
       "1  Petrol        11,661  \n",
       "2  Diesel        10,604  \n",
       "3  Petrol         6,573  \n",
       "4  Petrol         8,415  "
      ]
     },
     "execution_count": 3,
     "metadata": {},
     "output_type": "execute_result"
    }
   ],
   "source": [
    "df.head()"
   ]
  },
  {
   "cell_type": "markdown",
   "id": "dd138153",
   "metadata": {},
   "source": [
    "# Exploratory Data Analysis (EDA):"
   ]
  },
  {
   "cell_type": "code",
   "execution_count": 4,
   "id": "97aa1ae0",
   "metadata": {},
   "outputs": [
    {
     "data": {
      "text/plain": [
       "Index(['Unnamed: 0', 'Car Name', 'Price', 'EMI', 'Features', 'Location',\n",
       "       'Car Brand', 'Model', 'Model Year', 'Gear', 'Driven (Kms)', 'Ownership',\n",
       "       'Fuel', 'EMI (monthly)'],\n",
       "      dtype='object')"
      ]
     },
     "execution_count": 4,
     "metadata": {},
     "output_type": "execute_result"
    }
   ],
   "source": [
    "df.columns"
   ]
  },
  {
   "cell_type": "markdown",
   "id": "fc82117e",
   "metadata": {},
   "source": [
    "# Finding number of \"Missing / NAN\" values"
   ]
  },
  {
   "cell_type": "code",
   "execution_count": 5,
   "id": "d39e3380",
   "metadata": {
    "scrolled": true
   },
   "outputs": [
    {
     "data": {
      "text/plain": [
       "Unnamed: 0       0\n",
       "Car Name         0\n",
       "Price            0\n",
       "EMI              0\n",
       "Features         0\n",
       "Location         0\n",
       "Car Brand        0\n",
       "Model            0\n",
       "Model Year       0\n",
       "Gear             0\n",
       "Driven (Kms)     0\n",
       "Ownership        0\n",
       "Fuel             0\n",
       "EMI (monthly)    0\n",
       "dtype: int64"
      ]
     },
     "execution_count": 5,
     "metadata": {},
     "output_type": "execute_result"
    }
   ],
   "source": [
    "df.isnull().sum()"
   ]
  },
  {
   "cell_type": "markdown",
   "id": "52245c2e",
   "metadata": {},
   "source": [
    "# Removing unwanted columns & rearranging wanted columns"
   ]
  },
  {
   "cell_type": "code",
   "execution_count": 6,
   "id": "10269bed",
   "metadata": {},
   "outputs": [],
   "source": [
    "cols = ['Car Name', 'Features', 'EMI','Unnamed: 0']\n",
    "columns = ['Car Brand', 'Model', 'Price', 'Model Year','Location' ,'Fuel', 'Driven (Kms)', 'Gear', 'Ownership', 'EMI (monthly)']\n",
    "df = df.drop(cols,axis=1)\n",
    "df = df[columns]"
   ]
  },
  {
   "cell_type": "markdown",
   "id": "a9ac8de7",
   "metadata": {},
   "source": [
    "# Cleaning the format of different columns"
   ]
  },
  {
   "cell_type": "code",
   "execution_count": 7,
   "id": "a09c1022",
   "metadata": {},
   "outputs": [],
   "source": [
    "df['Model'] = df['Model'].apply(lambda x: ''.join(x))\n",
    "df['Gear']  = df['Gear'].apply(lambda x: ''.join(x))\n",
    "df['Price'] = df['Price'].apply(lambda x: x.replace(',',''))\n",
    "df['EMI (monthly)'] = df['EMI (monthly)'].apply(lambda x: x.replace(',',''))\n",
    "df['Driven (Kms)'] = df['Driven (Kms)'].apply(lambda x: x.replace(',',''))"
   ]
  },
  {
   "cell_type": "markdown",
   "id": "72b8d188",
   "metadata": {},
   "source": [
    "# Removing duplicated rows"
   ]
  },
  {
   "cell_type": "code",
   "execution_count": 8,
   "id": "fdf7e5ad",
   "metadata": {},
   "outputs": [],
   "source": [
    "df = df.drop_duplicates(keep='first')"
   ]
  },
  {
   "cell_type": "code",
   "execution_count": 9,
   "id": "3821e766",
   "metadata": {},
   "outputs": [
    {
     "data": {
      "text/html": [
       "<div>\n",
       "<style scoped>\n",
       "    .dataframe tbody tr th:only-of-type {\n",
       "        vertical-align: middle;\n",
       "    }\n",
       "\n",
       "    .dataframe tbody tr th {\n",
       "        vertical-align: top;\n",
       "    }\n",
       "\n",
       "    .dataframe thead th {\n",
       "        text-align: right;\n",
       "    }\n",
       "</style>\n",
       "<table border=\"1\" class=\"dataframe\">\n",
       "  <thead>\n",
       "    <tr style=\"text-align: right;\">\n",
       "      <th></th>\n",
       "      <th>Car Brand</th>\n",
       "      <th>Model</th>\n",
       "      <th>Price</th>\n",
       "      <th>Model Year</th>\n",
       "      <th>Location</th>\n",
       "      <th>Fuel</th>\n",
       "      <th>Driven (Kms)</th>\n",
       "      <th>Gear</th>\n",
       "      <th>Ownership</th>\n",
       "      <th>EMI (monthly)</th>\n",
       "    </tr>\n",
       "  </thead>\n",
       "  <tbody>\n",
       "    <tr>\n",
       "      <th>0</th>\n",
       "      <td>Maruti</td>\n",
       "      <td>['BalenoZETA 1.2 K12']</td>\n",
       "      <td>621899</td>\n",
       "      <td>2016</td>\n",
       "      <td>Hyderabad</td>\n",
       "      <td>Petrol</td>\n",
       "      <td>103354</td>\n",
       "      <td>['Manual']</td>\n",
       "      <td>1</td>\n",
       "      <td>13834</td>\n",
       "    </tr>\n",
       "    <tr>\n",
       "      <th>1</th>\n",
       "      <td>Honda</td>\n",
       "      <td>['Jazz1.2 V AT']</td>\n",
       "      <td>524199</td>\n",
       "      <td>2015</td>\n",
       "      <td>Hyderabad</td>\n",
       "      <td>Petrol</td>\n",
       "      <td>65571</td>\n",
       "      <td>['Automatic']</td>\n",
       "      <td>2</td>\n",
       "      <td>11661</td>\n",
       "    </tr>\n",
       "    <tr>\n",
       "      <th>2</th>\n",
       "      <td>Maruti</td>\n",
       "      <td>['SwiftZDI']</td>\n",
       "      <td>476699</td>\n",
       "      <td>2012</td>\n",
       "      <td>Hyderabad</td>\n",
       "      <td>Diesel</td>\n",
       "      <td>78819</td>\n",
       "      <td>['Manual']</td>\n",
       "      <td>2</td>\n",
       "      <td>10604</td>\n",
       "    </tr>\n",
       "    <tr>\n",
       "      <th>3</th>\n",
       "      <td>Maruti</td>\n",
       "      <td>['Alto 800LXI']</td>\n",
       "      <td>295499</td>\n",
       "      <td>2016</td>\n",
       "      <td>Hyderabad</td>\n",
       "      <td>Petrol</td>\n",
       "      <td>20215</td>\n",
       "      <td>['Manual']</td>\n",
       "      <td>2</td>\n",
       "      <td>6573</td>\n",
       "    </tr>\n",
       "    <tr>\n",
       "      <th>4</th>\n",
       "      <td>Hyundai</td>\n",
       "      <td>['i20SPORTZ 1.2 O']</td>\n",
       "      <td>378299</td>\n",
       "      <td>2010</td>\n",
       "      <td>Hyderabad</td>\n",
       "      <td>Petrol</td>\n",
       "      <td>79222</td>\n",
       "      <td>['Manual']</td>\n",
       "      <td>2</td>\n",
       "      <td>8415</td>\n",
       "    </tr>\n",
       "    <tr>\n",
       "      <th>...</th>\n",
       "      <td>...</td>\n",
       "      <td>...</td>\n",
       "      <td>...</td>\n",
       "      <td>...</td>\n",
       "      <td>...</td>\n",
       "      <td>...</td>\n",
       "      <td>...</td>\n",
       "      <td>...</td>\n",
       "      <td>...</td>\n",
       "      <td>...</td>\n",
       "    </tr>\n",
       "    <tr>\n",
       "      <th>3029</th>\n",
       "      <td>Maruti</td>\n",
       "      <td>['Alto 800LXI']</td>\n",
       "      <td>260499</td>\n",
       "      <td>2014</td>\n",
       "      <td>Chennai</td>\n",
       "      <td>Petrol</td>\n",
       "      <td>39845</td>\n",
       "      <td>['Manual']</td>\n",
       "      <td>3</td>\n",
       "      <td>5795</td>\n",
       "    </tr>\n",
       "    <tr>\n",
       "      <th>3030</th>\n",
       "      <td>Maruti</td>\n",
       "      <td>['CiazALPHA 1.3 DDIS SHVS']</td>\n",
       "      <td>691099</td>\n",
       "      <td>2017</td>\n",
       "      <td>Chennai</td>\n",
       "      <td>Diesel</td>\n",
       "      <td>93258</td>\n",
       "      <td>['Manual']</td>\n",
       "      <td>1</td>\n",
       "      <td>15373</td>\n",
       "    </tr>\n",
       "    <tr>\n",
       "      <th>3031</th>\n",
       "      <td>Skoda</td>\n",
       "      <td>['RapidStyle 1.5 TDI AT']</td>\n",
       "      <td>1077299</td>\n",
       "      <td>2018</td>\n",
       "      <td>Chennai</td>\n",
       "      <td>Diesel</td>\n",
       "      <td>64861</td>\n",
       "      <td>['Automatic']</td>\n",
       "      <td>1</td>\n",
       "      <td>23964</td>\n",
       "    </tr>\n",
       "    <tr>\n",
       "      <th>3032</th>\n",
       "      <td>Renault</td>\n",
       "      <td>['KwidRXT']</td>\n",
       "      <td>369799</td>\n",
       "      <td>2017</td>\n",
       "      <td>Chennai</td>\n",
       "      <td>Petrol</td>\n",
       "      <td>22293</td>\n",
       "      <td>['Manual']</td>\n",
       "      <td>1</td>\n",
       "      <td>8226</td>\n",
       "    </tr>\n",
       "    <tr>\n",
       "      <th>3033</th>\n",
       "      <td>Maruti</td>\n",
       "      <td>[]</td>\n",
       "      <td>357099</td>\n",
       "      <td>2017</td>\n",
       "      <td>Chennai</td>\n",
       "      <td>Petrol</td>\n",
       "      <td>18747</td>\n",
       "      <td>[]</td>\n",
       "      <td>3</td>\n",
       "      <td>7943</td>\n",
       "    </tr>\n",
       "  </tbody>\n",
       "</table>\n",
       "<p>3034 rows × 10 columns</p>\n",
       "</div>"
      ],
      "text/plain": [
       "     Car Brand                        Model    Price  Model Year   Location  \\\n",
       "0       Maruti       ['BalenoZETA 1.2 K12']   621899        2016  Hyderabad   \n",
       "1        Honda             ['Jazz1.2 V AT']   524199        2015  Hyderabad   \n",
       "2       Maruti                 ['SwiftZDI']   476699        2012  Hyderabad   \n",
       "3       Maruti              ['Alto 800LXI']   295499        2016  Hyderabad   \n",
       "4      Hyundai          ['i20SPORTZ 1.2 O']   378299        2010  Hyderabad   \n",
       "...        ...                          ...      ...         ...        ...   \n",
       "3029    Maruti              ['Alto 800LXI']   260499        2014    Chennai   \n",
       "3030    Maruti  ['CiazALPHA 1.3 DDIS SHVS']   691099        2017    Chennai   \n",
       "3031     Skoda    ['RapidStyle 1.5 TDI AT']  1077299        2018    Chennai   \n",
       "3032   Renault                  ['KwidRXT']   369799        2017    Chennai   \n",
       "3033    Maruti                           []   357099        2017    Chennai   \n",
       "\n",
       "        Fuel Driven (Kms)           Gear  Ownership EMI (monthly)  \n",
       "0     Petrol       103354     ['Manual']          1         13834  \n",
       "1     Petrol        65571  ['Automatic']          2         11661  \n",
       "2     Diesel        78819     ['Manual']          2         10604  \n",
       "3     Petrol        20215     ['Manual']          2          6573  \n",
       "4     Petrol        79222     ['Manual']          2          8415  \n",
       "...      ...          ...            ...        ...           ...  \n",
       "3029  Petrol        39845     ['Manual']          3          5795  \n",
       "3030  Diesel        93258     ['Manual']          1         15373  \n",
       "3031  Diesel        64861  ['Automatic']          1         23964  \n",
       "3032  Petrol        22293     ['Manual']          1          8226  \n",
       "3033  Petrol        18747             []          3          7943  \n",
       "\n",
       "[3034 rows x 10 columns]"
      ]
     },
     "execution_count": 9,
     "metadata": {},
     "output_type": "execute_result"
    }
   ],
   "source": [
    "df"
   ]
  },
  {
   "cell_type": "markdown",
   "id": "70f5fa30",
   "metadata": {},
   "source": [
    "# Analysing the Data"
   ]
  },
  {
   "cell_type": "code",
   "execution_count": 10,
   "id": "26b9a8d2",
   "metadata": {},
   "outputs": [
    {
     "name": "stdout",
     "output_type": "stream",
     "text": [
      "<class 'pandas.core.frame.DataFrame'>\n",
      "Int64Index: 3034 entries, 0 to 3033\n",
      "Data columns (total 10 columns):\n",
      " #   Column         Non-Null Count  Dtype \n",
      "---  ------         --------------  ----- \n",
      " 0   Car Brand      3034 non-null   object\n",
      " 1   Model          3034 non-null   object\n",
      " 2   Price          3034 non-null   object\n",
      " 3   Model Year     3034 non-null   int64 \n",
      " 4   Location       3034 non-null   object\n",
      " 5   Fuel           3034 non-null   object\n",
      " 6   Driven (Kms)   3034 non-null   object\n",
      " 7   Gear           3034 non-null   object\n",
      " 8   Ownership      3034 non-null   int64 \n",
      " 9   EMI (monthly)  3034 non-null   object\n",
      "dtypes: int64(2), object(8)\n",
      "memory usage: 260.7+ KB\n"
     ]
    }
   ],
   "source": [
    "df.info()"
   ]
  },
  {
   "cell_type": "code",
   "execution_count": 11,
   "id": "68060a37",
   "metadata": {},
   "outputs": [
    {
     "data": {
      "text/plain": [
       "Int64Index([   0,    1,    2,    3,    4,    5,    6,    7,    8,    9,\n",
       "            ...\n",
       "            3024, 3025, 3026, 3027, 3028, 3029, 3030, 3031, 3032, 3033],\n",
       "           dtype='int64', length=3034)"
      ]
     },
     "execution_count": 11,
     "metadata": {},
     "output_type": "execute_result"
    }
   ],
   "source": [
    "df.index"
   ]
  },
  {
   "cell_type": "markdown",
   "id": "3bbf42f7",
   "metadata": {},
   "source": [
    "# Checking Datatype of all columns"
   ]
  },
  {
   "cell_type": "code",
   "execution_count": 12,
   "id": "24f80f9d",
   "metadata": {},
   "outputs": [
    {
     "data": {
      "text/plain": [
       "Car Brand        object\n",
       "Model            object\n",
       "Price            object\n",
       "Model Year        int64\n",
       "Location         object\n",
       "Fuel             object\n",
       "Driven (Kms)     object\n",
       "Gear             object\n",
       "Ownership         int64\n",
       "EMI (monthly)    object\n",
       "dtype: object"
      ]
     },
     "execution_count": 12,
     "metadata": {},
     "output_type": "execute_result"
    }
   ],
   "source": [
    "df.dtypes"
   ]
  },
  {
   "cell_type": "markdown",
   "id": "dd0597ca",
   "metadata": {},
   "source": [
    "# Statistical Summary"
   ]
  },
  {
   "cell_type": "code",
   "execution_count": 13,
   "id": "42d87904",
   "metadata": {},
   "outputs": [
    {
     "data": {
      "text/html": [
       "<div>\n",
       "<style scoped>\n",
       "    .dataframe tbody tr th:only-of-type {\n",
       "        vertical-align: middle;\n",
       "    }\n",
       "\n",
       "    .dataframe tbody tr th {\n",
       "        vertical-align: top;\n",
       "    }\n",
       "\n",
       "    .dataframe thead th {\n",
       "        text-align: right;\n",
       "    }\n",
       "</style>\n",
       "<table border=\"1\" class=\"dataframe\">\n",
       "  <thead>\n",
       "    <tr style=\"text-align: right;\">\n",
       "      <th></th>\n",
       "      <th>Car Brand</th>\n",
       "      <th>Model</th>\n",
       "      <th>Price</th>\n",
       "      <th>Model Year</th>\n",
       "      <th>Location</th>\n",
       "      <th>Fuel</th>\n",
       "      <th>Driven (Kms)</th>\n",
       "      <th>Gear</th>\n",
       "      <th>Ownership</th>\n",
       "      <th>EMI (monthly)</th>\n",
       "    </tr>\n",
       "  </thead>\n",
       "  <tbody>\n",
       "    <tr>\n",
       "      <th>count</th>\n",
       "      <td>3034</td>\n",
       "      <td>3034</td>\n",
       "      <td>3034</td>\n",
       "      <td>3034.000000</td>\n",
       "      <td>3034</td>\n",
       "      <td>3034</td>\n",
       "      <td>3034</td>\n",
       "      <td>3034</td>\n",
       "      <td>3034.000000</td>\n",
       "      <td>3034</td>\n",
       "    </tr>\n",
       "    <tr>\n",
       "      <th>unique</th>\n",
       "      <td>21</td>\n",
       "      <td>612</td>\n",
       "      <td>2406</td>\n",
       "      <td>NaN</td>\n",
       "      <td>5</td>\n",
       "      <td>4</td>\n",
       "      <td>2987</td>\n",
       "      <td>3</td>\n",
       "      <td>NaN</td>\n",
       "      <td>2406</td>\n",
       "    </tr>\n",
       "    <tr>\n",
       "      <th>top</th>\n",
       "      <td>Maruti</td>\n",
       "      <td>['Wagon R 1.0VXI']</td>\n",
       "      <td>466499</td>\n",
       "      <td>NaN</td>\n",
       "      <td>Mumbai</td>\n",
       "      <td>Petrol</td>\n",
       "      <td>19376</td>\n",
       "      <td>['Manual']</td>\n",
       "      <td>NaN</td>\n",
       "      <td>7140</td>\n",
       "    </tr>\n",
       "    <tr>\n",
       "      <th>freq</th>\n",
       "      <td>1428</td>\n",
       "      <td>85</td>\n",
       "      <td>10</td>\n",
       "      <td>NaN</td>\n",
       "      <td>1126</td>\n",
       "      <td>2222</td>\n",
       "      <td>2</td>\n",
       "      <td>2417</td>\n",
       "      <td>NaN</td>\n",
       "      <td>10</td>\n",
       "    </tr>\n",
       "    <tr>\n",
       "      <th>mean</th>\n",
       "      <td>NaN</td>\n",
       "      <td>NaN</td>\n",
       "      <td>NaN</td>\n",
       "      <td>2016.290705</td>\n",
       "      <td>NaN</td>\n",
       "      <td>NaN</td>\n",
       "      <td>NaN</td>\n",
       "      <td>NaN</td>\n",
       "      <td>1.224127</td>\n",
       "      <td>NaN</td>\n",
       "    </tr>\n",
       "    <tr>\n",
       "      <th>std</th>\n",
       "      <td>NaN</td>\n",
       "      <td>NaN</td>\n",
       "      <td>NaN</td>\n",
       "      <td>2.236554</td>\n",
       "      <td>NaN</td>\n",
       "      <td>NaN</td>\n",
       "      <td>NaN</td>\n",
       "      <td>NaN</td>\n",
       "      <td>0.472660</td>\n",
       "      <td>NaN</td>\n",
       "    </tr>\n",
       "    <tr>\n",
       "      <th>min</th>\n",
       "      <td>NaN</td>\n",
       "      <td>NaN</td>\n",
       "      <td>NaN</td>\n",
       "      <td>2008.000000</td>\n",
       "      <td>NaN</td>\n",
       "      <td>NaN</td>\n",
       "      <td>NaN</td>\n",
       "      <td>NaN</td>\n",
       "      <td>1.000000</td>\n",
       "      <td>NaN</td>\n",
       "    </tr>\n",
       "    <tr>\n",
       "      <th>25%</th>\n",
       "      <td>NaN</td>\n",
       "      <td>NaN</td>\n",
       "      <td>NaN</td>\n",
       "      <td>2015.000000</td>\n",
       "      <td>NaN</td>\n",
       "      <td>NaN</td>\n",
       "      <td>NaN</td>\n",
       "      <td>NaN</td>\n",
       "      <td>1.000000</td>\n",
       "      <td>NaN</td>\n",
       "    </tr>\n",
       "    <tr>\n",
       "      <th>50%</th>\n",
       "      <td>NaN</td>\n",
       "      <td>NaN</td>\n",
       "      <td>NaN</td>\n",
       "      <td>2017.000000</td>\n",
       "      <td>NaN</td>\n",
       "      <td>NaN</td>\n",
       "      <td>NaN</td>\n",
       "      <td>NaN</td>\n",
       "      <td>1.000000</td>\n",
       "      <td>NaN</td>\n",
       "    </tr>\n",
       "    <tr>\n",
       "      <th>75%</th>\n",
       "      <td>NaN</td>\n",
       "      <td>NaN</td>\n",
       "      <td>NaN</td>\n",
       "      <td>2018.000000</td>\n",
       "      <td>NaN</td>\n",
       "      <td>NaN</td>\n",
       "      <td>NaN</td>\n",
       "      <td>NaN</td>\n",
       "      <td>1.000000</td>\n",
       "      <td>NaN</td>\n",
       "    </tr>\n",
       "    <tr>\n",
       "      <th>max</th>\n",
       "      <td>NaN</td>\n",
       "      <td>NaN</td>\n",
       "      <td>NaN</td>\n",
       "      <td>2021.000000</td>\n",
       "      <td>NaN</td>\n",
       "      <td>NaN</td>\n",
       "      <td>NaN</td>\n",
       "      <td>NaN</td>\n",
       "      <td>5.000000</td>\n",
       "      <td>NaN</td>\n",
       "    </tr>\n",
       "  </tbody>\n",
       "</table>\n",
       "</div>"
      ],
      "text/plain": [
       "       Car Brand               Model   Price   Model Year Location    Fuel  \\\n",
       "count       3034                3034    3034  3034.000000     3034    3034   \n",
       "unique        21                 612    2406          NaN        5       4   \n",
       "top       Maruti  ['Wagon R 1.0VXI']  466499          NaN   Mumbai  Petrol   \n",
       "freq        1428                  85      10          NaN     1126    2222   \n",
       "mean         NaN                 NaN     NaN  2016.290705      NaN     NaN   \n",
       "std          NaN                 NaN     NaN     2.236554      NaN     NaN   \n",
       "min          NaN                 NaN     NaN  2008.000000      NaN     NaN   \n",
       "25%          NaN                 NaN     NaN  2015.000000      NaN     NaN   \n",
       "50%          NaN                 NaN     NaN  2017.000000      NaN     NaN   \n",
       "75%          NaN                 NaN     NaN  2018.000000      NaN     NaN   \n",
       "max          NaN                 NaN     NaN  2021.000000      NaN     NaN   \n",
       "\n",
       "       Driven (Kms)        Gear    Ownership EMI (monthly)  \n",
       "count          3034        3034  3034.000000          3034  \n",
       "unique         2987           3          NaN          2406  \n",
       "top           19376  ['Manual']          NaN          7140  \n",
       "freq              2        2417          NaN            10  \n",
       "mean            NaN         NaN     1.224127           NaN  \n",
       "std             NaN         NaN     0.472660           NaN  \n",
       "min             NaN         NaN     1.000000           NaN  \n",
       "25%             NaN         NaN     1.000000           NaN  \n",
       "50%             NaN         NaN     1.000000           NaN  \n",
       "75%             NaN         NaN     1.000000           NaN  \n",
       "max             NaN         NaN     5.000000           NaN  "
      ]
     },
     "execution_count": 13,
     "metadata": {},
     "output_type": "execute_result"
    }
   ],
   "source": [
    "df.describe(include='all')"
   ]
  },
  {
   "cell_type": "markdown",
   "id": "f984bc34",
   "metadata": {},
   "source": [
    "Some statistical details can't be calculated for object type so it gives 'NaN' values"
   ]
  },
  {
   "cell_type": "code",
   "execution_count": 14,
   "id": "2a160399",
   "metadata": {},
   "outputs": [
    {
     "data": {
      "image/png": "[encoded data removed]",
      "text/plain": [
       "<Figure size 720x576 with 2 Axes>"
      ]
     },
     "metadata": {
      "needs_background": "light"
     },
     "output_type": "display_data"
    }
   ],
   "source": [
    "#visualize \n",
    "plt.figure(figsize=(10,8))\n",
    "sns.heatmap(df.describe(),linewidths=0.1,fmt='0.1f',annot=True)\n",
    "plt.show()"
   ]
  },
  {
   "cell_type": "markdown",
   "id": "8c4347b2",
   "metadata": {},
   "source": [
    "# Analyzing the Target Class"
   ]
  },
  {
   "cell_type": "code",
   "execution_count": 15,
   "id": "5021e636",
   "metadata": {},
   "outputs": [
    {
     "data": {
      "text/plain": [
       "array(['621899', '524199', '476699', ..., '260499', '691099', '357099'],\n",
       "      dtype=object)"
      ]
     },
     "execution_count": 15,
     "metadata": {},
     "output_type": "execute_result"
    }
   ],
   "source": [
    "df['Price'].unique()"
   ]
  },
  {
   "cell_type": "code",
   "execution_count": 16,
   "id": "ca395976",
   "metadata": {},
   "outputs": [
    {
     "data": {
      "text/plain": [
       "466499     10\n",
       "320999     10\n",
       "299199      7\n",
       "478599      7\n",
       "606299      7\n",
       "           ..\n",
       "570699      1\n",
       "1403799     1\n",
       "738699      1\n",
       "577299      1\n",
       "333599      1\n",
       "Name: Price, Length: 2406, dtype: int64"
      ]
     },
     "execution_count": 16,
     "metadata": {},
     "output_type": "execute_result"
    }
   ],
   "source": [
    "df['Price'].value_counts()"
   ]
  },
  {
   "cell_type": "code",
   "execution_count": 18,
   "id": "2687615a",
   "metadata": {},
   "outputs": [
    {
     "data": {
      "image/png": "[encoded data removed]",
      "text/plain": [
       "<Figure size 576x432 with 1 Axes>"
      ]
     },
     "metadata": {
      "needs_background": "light"
     },
     "output_type": "display_data"
    }
   ],
   "source": [
    "plt.figure(figsize=(8,6))\n",
    "sns.distplot(df['Price'])\n",
    "plt.show()"
   ]
  },
  {
   "cell_type": "markdown",
   "id": "c383a89d",
   "metadata": {},
   "source": [
    "### 1) Total number of cars in different Cities"
   ]
  },
  {
   "cell_type": "code",
   "execution_count": 20,
   "id": "6d22cadf",
   "metadata": {},
   "outputs": [
    {
     "data": {
      "text/plain": [
       "array(['Hyderabad', 'Delhi', 'Mumbai', 'Bangalore', 'Chennai'],\n",
       "      dtype=object)"
      ]
     },
     "execution_count": 20,
     "metadata": {},
     "output_type": "execute_result"
    }
   ],
   "source": [
    "df.Location.unique()"
   ]
  },
  {
   "cell_type": "code",
   "execution_count": 21,
   "id": "3365a221",
   "metadata": {},
   "outputs": [
    {
     "data": {
      "text/plain": [
       "Mumbai       1126\n",
       "Delhi         674\n",
       "Chennai       638\n",
       "Bangalore     478\n",
       "Hyderabad     118\n",
       "Name: Location, dtype: int64"
      ]
     },
     "execution_count": 21,
     "metadata": {},
     "output_type": "execute_result"
    }
   ],
   "source": [
    "df['Location'].value_counts()"
   ]
  },
  {
   "cell_type": "code",
   "execution_count": 22,
   "id": "2de7e629",
   "metadata": {},
   "outputs": [
    {
     "data": {
      "image/png": "[encoded data removed]",
      "text/plain": [
       "<Figure size 720x576 with 1 Axes>"
      ]
     },
     "metadata": {
      "needs_background": "light"
     },
     "output_type": "display_data"
    }
   ],
   "source": [
    "#visualize \n",
    "plt.figure(figsize=(10,8))\n",
    "sns.countplot(df['Location'])\n",
    "plt.title(\"Total number of Cars in different Cities\",fontsize=15)\n",
    "plt.show()"
   ]
  },
  {
   "cell_type": "markdown",
   "id": "05d039ce",
   "metadata": {},
   "source": [
    "### Mumbai           1126\n",
    "\n",
    "### Delhi                  674\n",
    " \n",
    "### Chennai            638\n",
    "\n",
    "### Bangalore         478\n",
    "\n",
    "### Hyderabad        118"
   ]
  },
  {
   "cell_type": "markdown",
   "id": "c88c3103",
   "metadata": {},
   "source": [
    "#  No. of different Brands in all Cities"
   ]
  },
  {
   "cell_type": "code",
   "execution_count": 23,
   "id": "fb54da64",
   "metadata": {},
   "outputs": [
    {
     "data": {
      "text/plain": [
       "array(['Maruti', 'Honda', 'Hyundai', 'Volkswagen', 'Datsun', 'Renault',\n",
       "       'Ford', 'Toyota', 'Skoda', 'Tata', 'Nissan', 'Audi', 'KIA', 'BMW',\n",
       "       'Mercedes', 'Mahindra', 'MG', 'Ssangyong', 'Jeep', 'Jaguar',\n",
       "       'Fiat'], dtype=object)"
      ]
     },
     "execution_count": 23,
     "metadata": {},
     "output_type": "execute_result"
    }
   ],
   "source": [
    "df['Car Brand'].unique()"
   ]
  },
  {
   "cell_type": "code",
   "execution_count": 24,
   "id": "7a520abc",
   "metadata": {},
   "outputs": [
    {
     "data": {
      "text/plain": [
       "Maruti        1428\n",
       "Hyundai        711\n",
       "Ford           200\n",
       "Honda          194\n",
       "Renault        115\n",
       "Tata            91\n",
       "Toyota          80\n",
       "Volkswagen      75\n",
       "Mahindra        30\n",
       "MG              22\n",
       "Skoda           14\n",
       "KIA             13\n",
       "BMW             13\n",
       "Datsun          13\n",
       "Nissan          12\n",
       "Jeep            11\n",
       "Audi             7\n",
       "Mercedes         2\n",
       "Fiat             1\n",
       "Ssangyong        1\n",
       "Jaguar           1\n",
       "Name: Car Brand, dtype: int64"
      ]
     },
     "execution_count": 24,
     "metadata": {},
     "output_type": "execute_result"
    }
   ],
   "source": [
    "df['Car Brand'].value_counts()"
   ]
  },
  {
   "cell_type": "code",
   "execution_count": 25,
   "id": "015c3c5a",
   "metadata": {},
   "outputs": [
    {
     "data": {
      "image/png": "[encoded data removed]",
      "text/plain": [
       "<Figure size 1296x1080 with 1 Axes>"
      ]
     },
     "metadata": {
      "needs_background": "light"
     },
     "output_type": "display_data"
    }
   ],
   "source": [
    "plt.figure(figsize=(18,15))\n",
    "sns.countplot(df['Car Brand'])\n",
    "plt.title(\"Total number of different Brands in all Cities\",fontsize=15)\n",
    "plt.show()"
   ]
  },
  {
   "cell_type": "markdown",
   "id": "0c2caece",
   "metadata": {},
   "source": [
    "###  Total no. of different Car Brands in Hyderabad"
   ]
  },
  {
   "cell_type": "code",
   "execution_count": 26,
   "id": "dffdfd0e",
   "metadata": {},
   "outputs": [],
   "source": [
    "hyd_city = df.loc[(df['Location'] == 'Hyderabad')]\n",
    "hyd_brands = hyd_city['Car Brand'].value_counts().sort_values(ascending = False).reset_index().rename(columns={\n",
    "    'Car Brand':'Count','index':'Brand'})"
   ]
  },
  {
   "cell_type": "code",
   "execution_count": 27,
   "id": "dac97ba9",
   "metadata": {},
   "outputs": [
    {
     "data": {
      "image/png": "[encoded data removed]",
      "text/plain": [
       "<Figure size 1296x720 with 1 Axes>"
      ]
     },
     "metadata": {
      "needs_background": "light"
     },
     "output_type": "display_data"
    }
   ],
   "source": [
    "plt.figure(figsize=(18,10))\n",
    "plt.scatter('Brand','Count',data=hyd_brands,color='k',marker='D')\n",
    "plt.title(\"Total no. of different car brands in Hyderabad\",fontsize=28)\n",
    "plt.xlabel(\"Brand Name\", fontsize = 18)\n",
    "plt.ylabel(\"No. of Cars\", fontsize =18)\n",
    "plt.show()"
   ]
  },
  {
   "cell_type": "markdown",
   "id": "f763c384",
   "metadata": {},
   "source": [
    "### Total no. of different Car Brands in Delhi"
   ]
  },
  {
   "cell_type": "code",
   "execution_count": 28,
   "id": "87f64fb5",
   "metadata": {},
   "outputs": [],
   "source": [
    "del_city = df.loc[(df['Location'] == 'Delhi')]\n",
    "del_brands = del_city['Car Brand'].value_counts().sort_values(ascending = False).reset_index().rename(columns={\n",
    "    'Car Brand':'Count','index':'Brand'})"
   ]
  },
  {
   "cell_type": "code",
   "execution_count": 29,
   "id": "70041d39",
   "metadata": {},
   "outputs": [
    {
     "data": {
      "image/png": "[encoded data removed]",
      "text/plain": [
       "<Figure size 1296x720 with 1 Axes>"
      ]
     },
     "metadata": {
      "needs_background": "light"
     },
     "output_type": "display_data"
    }
   ],
   "source": [
    "plt.figure(figsize=(18,10))\n",
    "plt.scatter('Brand','Count',data=del_brands,color='k',marker='D')\n",
    "plt.title(\"Total no. of different car brands in Delhi\",fontsize=28)\n",
    "plt.xlabel(\"Brand Name\", fontsize = 18)\n",
    "plt.ylabel(\"No. of Cars\", fontsize =18)\n",
    "plt.show()"
   ]
  },
  {
   "cell_type": "markdown",
   "id": "4f09fd61",
   "metadata": {},
   "source": [
    "### Total no. of different Car Brands in Mumbai"
   ]
  },
  {
   "cell_type": "code",
   "execution_count": 30,
   "id": "88ac4177",
   "metadata": {},
   "outputs": [],
   "source": [
    "mum_city = df.loc[(df['Location'] == 'Mumbai')]\n",
    "mum_brands = mum_city['Car Brand'].value_counts().sort_values(ascending = False).reset_index().rename(columns={\n",
    "    'Car Brand':'Count','index':'Brand'})"
   ]
  },
  {
   "cell_type": "code",
   "execution_count": 31,
   "id": "f98890aa",
   "metadata": {},
   "outputs": [
    {
     "data": {
      "image/png": "[encoded data removed]",
      "text/plain": [
       "<Figure size 1296x720 with 1 Axes>"
      ]
     },
     "metadata": {
      "needs_background": "light"
     },
     "output_type": "display_data"
    }
   ],
   "source": [
    "plt.figure(figsize=(18,10))\n",
    "plt.scatter('Brand','Count',data=mum_brands,color='k',marker='D')\n",
    "plt.title(\"Total no. of different car brands in Mumbai\",fontsize=28)\n",
    "plt.xlabel(\"Brand Name\", fontsize = 18)\n",
    "plt.ylabel(\"No. of Cars\", fontsize =18)\n",
    "plt.show()"
   ]
  },
  {
   "cell_type": "markdown",
   "id": "1ae99f78",
   "metadata": {},
   "source": [
    "### Total no. of different Car Brands in Bangalore"
   ]
  },
  {
   "cell_type": "code",
   "execution_count": 32,
   "id": "23becbee",
   "metadata": {},
   "outputs": [],
   "source": [
    "bangalore_city = df.loc[(df['Location'] == 'Bangalore')]\n",
    "bangalore_brands = bangalore_city['Car Brand'].value_counts().sort_values(ascending = False).reset_index().rename(columns={\n",
    "    'Car Brand':'Count','index':'Brand'})"
   ]
  },
  {
   "cell_type": "code",
   "execution_count": 30,
   "id": "63af0b66",
   "metadata": {},
   "outputs": [
    {
     "data": {
      "image/png": "[encoded data removed]",
      "text/plain": [
       "<Figure size 1296x864 with 1 Axes>"
      ]
     },
     "metadata": {
      "needs_background": "light"
     },
     "output_type": "display_data"
    }
   ],
   "source": [
    "plt.figure(figsize=(18,12))\n",
    "plt.stem('Brand','Count',data=bangalore_brands)\n",
    "plt.title(\"Total no. of different car brands in Bangalore\",fontsize=28,color='maroon')\n",
    "plt.xlabel(\"Brand Name\", fontsize = 18)\n",
    "plt.ylabel(\"No. of Cars\", fontsize = 18)\n",
    "plt.show()"
   ]
  },
  {
   "cell_type": "markdown",
   "id": "9193f1a5",
   "metadata": {},
   "source": [
    "### Total no. of different Car Brands in Chennai"
   ]
  },
  {
   "cell_type": "code",
   "execution_count": 31,
   "id": "8f517289",
   "metadata": {},
   "outputs": [],
   "source": [
    "chennai_city = df.loc[(df['Location'] == 'Chennai')]\n",
    "chennai_brands = chennai_city['Car Brand'].value_counts().sort_values(ascending = True).reset_index().rename(columns={\n",
    "    'Car Brand':'Count','index':'Brand'})"
   ]
  },
  {
   "cell_type": "code",
   "execution_count": 32,
   "id": "18dedd61",
   "metadata": {},
   "outputs": [
    {
     "data": {
      "image/png": "[encoded data removed]",
      "text/plain": [
       "<Figure size 1296x864 with 1 Axes>"
      ]
     },
     "metadata": {
      "needs_background": "light"
     },
     "output_type": "display_data"
    }
   ],
   "source": [
    "plt.figure(figsize=(18,12))\n",
    "sns.barplot(x ='Brand',y='Count',data=chennai_brands)\n",
    "plt.show()"
   ]
  },
  {
   "cell_type": "markdown",
   "id": "d8f6be70",
   "metadata": {},
   "source": [
    "# Number of Cars based on Fuel type in all cities"
   ]
  },
  {
   "cell_type": "code",
   "execution_count": 33,
   "id": "fec2ff8a",
   "metadata": {},
   "outputs": [],
   "source": [
    "fuel_type = df.groupby(by=['Fuel'])['Location'].count().sort_values(ascending=True).reset_index().rename(columns={'Location':'Count'})"
   ]
  },
  {
   "cell_type": "code",
   "execution_count": 34,
   "id": "72c4b587",
   "metadata": {},
   "outputs": [
    {
     "data": {
      "text/html": [
       "<div>\n",
       "<style scoped>\n",
       "    .dataframe tbody tr th:only-of-type {\n",
       "        vertical-align: middle;\n",
       "    }\n",
       "\n",
       "    .dataframe tbody tr th {\n",
       "        vertical-align: top;\n",
       "    }\n",
       "\n",
       "    .dataframe thead th {\n",
       "        text-align: right;\n",
       "    }\n",
       "</style>\n",
       "<table border=\"1\" class=\"dataframe\">\n",
       "  <thead>\n",
       "    <tr style=\"text-align: right;\">\n",
       "      <th></th>\n",
       "      <th>Fuel</th>\n",
       "      <th>Count</th>\n",
       "    </tr>\n",
       "  </thead>\n",
       "  <tbody>\n",
       "    <tr>\n",
       "      <th>0</th>\n",
       "      <td>Petrol + LPG</td>\n",
       "      <td>1</td>\n",
       "    </tr>\n",
       "    <tr>\n",
       "      <th>1</th>\n",
       "      <td>Petrol + CNG</td>\n",
       "      <td>33</td>\n",
       "    </tr>\n",
       "    <tr>\n",
       "      <th>2</th>\n",
       "      <td>Diesel</td>\n",
       "      <td>778</td>\n",
       "    </tr>\n",
       "    <tr>\n",
       "      <th>3</th>\n",
       "      <td>Petrol</td>\n",
       "      <td>2222</td>\n",
       "    </tr>\n",
       "  </tbody>\n",
       "</table>\n",
       "</div>"
      ],
      "text/plain": [
       "           Fuel  Count\n",
       "0  Petrol + LPG      1\n",
       "1  Petrol + CNG     33\n",
       "2        Diesel    778\n",
       "3        Petrol   2222"
      ]
     },
     "execution_count": 34,
     "metadata": {},
     "output_type": "execute_result"
    }
   ],
   "source": [
    "fuel_type"
   ]
  },
  {
   "cell_type": "code",
   "execution_count": 35,
   "id": "ab0a4d92",
   "metadata": {},
   "outputs": [
    {
     "data": {
      "image/png": "[encoded data removed]",
      "text/plain": [
       "<Figure size 1296x864 with 1 Axes>"
      ]
     },
     "metadata": {
      "needs_background": "light"
     },
     "output_type": "display_data"
    }
   ],
   "source": [
    "plt.figure(figsize=(18,12))\n",
    "sns.barplot(x ='Fuel',y='Count',data=fuel_type)\n",
    "plt.title(\"No. of Cars based on Fuel type\",fontsize=18)\n",
    "plt.show()"
   ]
  },
  {
   "cell_type": "markdown",
   "id": "6e6749c0",
   "metadata": {},
   "source": [
    "# No. of Cars based on Fuel type in different Cities"
   ]
  },
  {
   "cell_type": "code",
   "execution_count": 36,
   "id": "bdfa2d74",
   "metadata": {},
   "outputs": [],
   "source": [
    "fuel_location = df.groupby(by=['Location','Fuel'])['Gear'].count().reset_index().rename(columns={'Gear':'Count','Count':'Fuel'})\n",
    "fuel_location = fuel_location.sort_values(by=['Location','Count'],ascending=True).reset_index()\n",
    "fuel_location = fuel_location.drop('index',axis=1)"
   ]
  },
  {
   "cell_type": "code",
   "execution_count": 37,
   "id": "23fa5484",
   "metadata": {},
   "outputs": [
    {
     "data": {
      "text/html": [
       "<div>\n",
       "<style scoped>\n",
       "    .dataframe tbody tr th:only-of-type {\n",
       "        vertical-align: middle;\n",
       "    }\n",
       "\n",
       "    .dataframe tbody tr th {\n",
       "        vertical-align: top;\n",
       "    }\n",
       "\n",
       "    .dataframe thead th {\n",
       "        text-align: right;\n",
       "    }\n",
       "</style>\n",
       "<table border=\"1\" class=\"dataframe\">\n",
       "  <thead>\n",
       "    <tr style=\"text-align: right;\">\n",
       "      <th></th>\n",
       "      <th>Location</th>\n",
       "      <th>Fuel</th>\n",
       "      <th>Count</th>\n",
       "    </tr>\n",
       "  </thead>\n",
       "  <tbody>\n",
       "    <tr>\n",
       "      <th>0</th>\n",
       "      <td>Bangalore</td>\n",
       "      <td>Petrol + LPG</td>\n",
       "      <td>1</td>\n",
       "    </tr>\n",
       "    <tr>\n",
       "      <th>1</th>\n",
       "      <td>Bangalore</td>\n",
       "      <td>Diesel</td>\n",
       "      <td>56</td>\n",
       "    </tr>\n",
       "    <tr>\n",
       "      <th>2</th>\n",
       "      <td>Bangalore</td>\n",
       "      <td>Petrol</td>\n",
       "      <td>421</td>\n",
       "    </tr>\n",
       "    <tr>\n",
       "      <th>3</th>\n",
       "      <td>Chennai</td>\n",
       "      <td>Diesel</td>\n",
       "      <td>71</td>\n",
       "    </tr>\n",
       "    <tr>\n",
       "      <th>4</th>\n",
       "      <td>Chennai</td>\n",
       "      <td>Petrol</td>\n",
       "      <td>567</td>\n",
       "    </tr>\n",
       "    <tr>\n",
       "      <th>5</th>\n",
       "      <td>Delhi</td>\n",
       "      <td>Petrol + CNG</td>\n",
       "      <td>11</td>\n",
       "    </tr>\n",
       "    <tr>\n",
       "      <th>6</th>\n",
       "      <td>Delhi</td>\n",
       "      <td>Diesel</td>\n",
       "      <td>308</td>\n",
       "    </tr>\n",
       "    <tr>\n",
       "      <th>7</th>\n",
       "      <td>Delhi</td>\n",
       "      <td>Petrol</td>\n",
       "      <td>355</td>\n",
       "    </tr>\n",
       "    <tr>\n",
       "      <th>8</th>\n",
       "      <td>Hyderabad</td>\n",
       "      <td>Diesel</td>\n",
       "      <td>20</td>\n",
       "    </tr>\n",
       "    <tr>\n",
       "      <th>9</th>\n",
       "      <td>Hyderabad</td>\n",
       "      <td>Petrol</td>\n",
       "      <td>98</td>\n",
       "    </tr>\n",
       "    <tr>\n",
       "      <th>10</th>\n",
       "      <td>Mumbai</td>\n",
       "      <td>Petrol + CNG</td>\n",
       "      <td>22</td>\n",
       "    </tr>\n",
       "    <tr>\n",
       "      <th>11</th>\n",
       "      <td>Mumbai</td>\n",
       "      <td>Diesel</td>\n",
       "      <td>323</td>\n",
       "    </tr>\n",
       "    <tr>\n",
       "      <th>12</th>\n",
       "      <td>Mumbai</td>\n",
       "      <td>Petrol</td>\n",
       "      <td>781</td>\n",
       "    </tr>\n",
       "  </tbody>\n",
       "</table>\n",
       "</div>"
      ],
      "text/plain": [
       "     Location          Fuel  Count\n",
       "0   Bangalore  Petrol + LPG      1\n",
       "1   Bangalore        Diesel     56\n",
       "2   Bangalore        Petrol    421\n",
       "3     Chennai        Diesel     71\n",
       "4     Chennai        Petrol    567\n",
       "5       Delhi  Petrol + CNG     11\n",
       "6       Delhi        Diesel    308\n",
       "7       Delhi        Petrol    355\n",
       "8   Hyderabad        Diesel     20\n",
       "9   Hyderabad        Petrol     98\n",
       "10     Mumbai  Petrol + CNG     22\n",
       "11     Mumbai        Diesel    323\n",
       "12     Mumbai        Petrol    781"
      ]
     },
     "execution_count": 37,
     "metadata": {},
     "output_type": "execute_result"
    }
   ],
   "source": [
    "fuel_location"
   ]
  },
  {
   "cell_type": "code",
   "execution_count": 38,
   "id": "3d7c7a6f",
   "metadata": {},
   "outputs": [
    {
     "data": {
      "image/png": "[encoded data removed]",
      "text/plain": [
       "<Figure size 1296x1080 with 1 Axes>"
      ]
     },
     "metadata": {
      "needs_background": "light"
     },
     "output_type": "display_data"
    }
   ],
   "source": [
    "plt.figure(figsize=(18,15))\n",
    "sns.countplot(x = 'Location',hue='Fuel',data=df)\n",
    "plt.title(\"No. of Cars based on Fuel type in different Cities\",fontsize=28)\n",
    "plt.show()"
   ]
  },
  {
   "cell_type": "markdown",
   "id": "8ab14c50",
   "metadata": {},
   "source": [
    "# No. of cars in different Cities based on Model Year"
   ]
  },
  {
   "cell_type": "code",
   "execution_count": 39,
   "id": "00f4d83a",
   "metadata": {},
   "outputs": [],
   "source": [
    "model_year = df.groupby(by=['Location','Model Year'])['Gear'].count().reset_index().rename(columns={'Gear':'Count','Count':'Model Year'})\n",
    "model_year = model_year.sort_values(by=['Location','Count'],ascending=True).reset_index()\n",
    "model_year = model_year.drop('index',axis=1)"
   ]
  },
  {
   "cell_type": "code",
   "execution_count": 40,
   "id": "5e8998ad",
   "metadata": {},
   "outputs": [
    {
     "data": {
      "image/png": "[encoded data removed]",
      "text/plain": [
       "<Figure size 1080x864 with 1 Axes>"
      ]
     },
     "metadata": {
      "needs_background": "light"
     },
     "output_type": "display_data"
    }
   ],
   "source": [
    "plt.figure(figsize=(15,12))\n",
    "sns.countplot(x = 'Model Year',hue='Location',data=df)\n",
    "plt.title(\"No. of cars in different Cities based on Model Year\",fontsize=28)\n",
    "plt.show()"
   ]
  },
  {
   "cell_type": "markdown",
   "id": "40cd657d",
   "metadata": {},
   "source": [
    "# No. of Cars in different cities based on Gear"
   ]
  },
  {
   "cell_type": "code",
   "execution_count": 41,
   "id": "e288edf0",
   "metadata": {},
   "outputs": [
    {
     "data": {
      "text/html": [
       "<div>\n",
       "<style scoped>\n",
       "    .dataframe tbody tr th:only-of-type {\n",
       "        vertical-align: middle;\n",
       "    }\n",
       "\n",
       "    .dataframe tbody tr th {\n",
       "        vertical-align: top;\n",
       "    }\n",
       "\n",
       "    .dataframe thead th {\n",
       "        text-align: right;\n",
       "    }\n",
       "</style>\n",
       "<table border=\"1\" class=\"dataframe\">\n",
       "  <thead>\n",
       "    <tr style=\"text-align: right;\">\n",
       "      <th></th>\n",
       "      <th>Location</th>\n",
       "      <th>Gear</th>\n",
       "      <th>Count</th>\n",
       "    </tr>\n",
       "  </thead>\n",
       "  <tbody>\n",
       "    <tr>\n",
       "      <th>0</th>\n",
       "      <td>Bangalore</td>\n",
       "      <td>['Automatic']</td>\n",
       "      <td>89</td>\n",
       "    </tr>\n",
       "    <tr>\n",
       "      <th>1</th>\n",
       "      <td>Bangalore</td>\n",
       "      <td>['Manual']</td>\n",
       "      <td>379</td>\n",
       "    </tr>\n",
       "    <tr>\n",
       "      <th>2</th>\n",
       "      <td>Bangalore</td>\n",
       "      <td>[]</td>\n",
       "      <td>10</td>\n",
       "    </tr>\n",
       "    <tr>\n",
       "      <th>3</th>\n",
       "      <td>Chennai</td>\n",
       "      <td>['Automatic']</td>\n",
       "      <td>103</td>\n",
       "    </tr>\n",
       "    <tr>\n",
       "      <th>4</th>\n",
       "      <td>Chennai</td>\n",
       "      <td>['Manual']</td>\n",
       "      <td>518</td>\n",
       "    </tr>\n",
       "    <tr>\n",
       "      <th>5</th>\n",
       "      <td>Chennai</td>\n",
       "      <td>[]</td>\n",
       "      <td>17</td>\n",
       "    </tr>\n",
       "    <tr>\n",
       "      <th>6</th>\n",
       "      <td>Delhi</td>\n",
       "      <td>['Automatic']</td>\n",
       "      <td>66</td>\n",
       "    </tr>\n",
       "    <tr>\n",
       "      <th>7</th>\n",
       "      <td>Delhi</td>\n",
       "      <td>['Manual']</td>\n",
       "      <td>597</td>\n",
       "    </tr>\n",
       "    <tr>\n",
       "      <th>8</th>\n",
       "      <td>Delhi</td>\n",
       "      <td>[]</td>\n",
       "      <td>11</td>\n",
       "    </tr>\n",
       "    <tr>\n",
       "      <th>9</th>\n",
       "      <td>Hyderabad</td>\n",
       "      <td>['Automatic']</td>\n",
       "      <td>19</td>\n",
       "    </tr>\n",
       "    <tr>\n",
       "      <th>10</th>\n",
       "      <td>Hyderabad</td>\n",
       "      <td>['Manual']</td>\n",
       "      <td>97</td>\n",
       "    </tr>\n",
       "    <tr>\n",
       "      <th>11</th>\n",
       "      <td>Hyderabad</td>\n",
       "      <td>[]</td>\n",
       "      <td>2</td>\n",
       "    </tr>\n",
       "    <tr>\n",
       "      <th>12</th>\n",
       "      <td>Mumbai</td>\n",
       "      <td>['Automatic']</td>\n",
       "      <td>287</td>\n",
       "    </tr>\n",
       "    <tr>\n",
       "      <th>13</th>\n",
       "      <td>Mumbai</td>\n",
       "      <td>['Manual']</td>\n",
       "      <td>826</td>\n",
       "    </tr>\n",
       "    <tr>\n",
       "      <th>14</th>\n",
       "      <td>Mumbai</td>\n",
       "      <td>[]</td>\n",
       "      <td>13</td>\n",
       "    </tr>\n",
       "  </tbody>\n",
       "</table>\n",
       "</div>"
      ],
      "text/plain": [
       "     Location           Gear  Count\n",
       "0   Bangalore  ['Automatic']     89\n",
       "1   Bangalore     ['Manual']    379\n",
       "2   Bangalore             []     10\n",
       "3     Chennai  ['Automatic']    103\n",
       "4     Chennai     ['Manual']    518\n",
       "5     Chennai             []     17\n",
       "6       Delhi  ['Automatic']     66\n",
       "7       Delhi     ['Manual']    597\n",
       "8       Delhi             []     11\n",
       "9   Hyderabad  ['Automatic']     19\n",
       "10  Hyderabad     ['Manual']     97\n",
       "11  Hyderabad             []      2\n",
       "12     Mumbai  ['Automatic']    287\n",
       "13     Mumbai     ['Manual']    826\n",
       "14     Mumbai             []     13"
      ]
     },
     "execution_count": 41,
     "metadata": {},
     "output_type": "execute_result"
    }
   ],
   "source": [
    "location_gear = df.groupby(by=['Location','Gear'])['Ownership'].count().reset_index().rename(columns={'Ownership':'Count'})\n",
    "location_gear"
   ]
  },
  {
   "cell_type": "code",
   "execution_count": 42,
   "id": "61f840d2",
   "metadata": {},
   "outputs": [
    {
     "data": {
      "image/png": "[encoded data removed]",
      "text/plain": [
       "<Figure size 1080x864 with 1 Axes>"
      ]
     },
     "metadata": {
      "needs_background": "light"
     },
     "output_type": "display_data"
    }
   ],
   "source": [
    "plt.figure(figsize=(15,12))\n",
    "sns.pointplot(x='Location',y='Count',hue='Gear',data=location_gear)\n",
    "plt.title(\"Cars in different cities based on Gear\",fontsize=28)\n",
    "plt.show()"
   ]
  },
  {
   "cell_type": "markdown",
   "id": "86a3b865",
   "metadata": {},
   "source": [
    "# No. of Cars in different cities based on Ownership"
   ]
  },
  {
   "cell_type": "code",
   "execution_count": 43,
   "id": "aea73fa7",
   "metadata": {},
   "outputs": [
    {
     "data": {
      "text/html": [
       "<div>\n",
       "<style scoped>\n",
       "    .dataframe tbody tr th:only-of-type {\n",
       "        vertical-align: middle;\n",
       "    }\n",
       "\n",
       "    .dataframe tbody tr th {\n",
       "        vertical-align: top;\n",
       "    }\n",
       "\n",
       "    .dataframe thead th {\n",
       "        text-align: right;\n",
       "    }\n",
       "</style>\n",
       "<table border=\"1\" class=\"dataframe\">\n",
       "  <thead>\n",
       "    <tr style=\"text-align: right;\">\n",
       "      <th></th>\n",
       "      <th>Location</th>\n",
       "      <th>Ownership</th>\n",
       "      <th>Count</th>\n",
       "    </tr>\n",
       "  </thead>\n",
       "  <tbody>\n",
       "    <tr>\n",
       "      <th>0</th>\n",
       "      <td>Bangalore</td>\n",
       "      <td>1</td>\n",
       "      <td>345</td>\n",
       "    </tr>\n",
       "    <tr>\n",
       "      <th>1</th>\n",
       "      <td>Bangalore</td>\n",
       "      <td>2</td>\n",
       "      <td>118</td>\n",
       "    </tr>\n",
       "    <tr>\n",
       "      <th>2</th>\n",
       "      <td>Bangalore</td>\n",
       "      <td>3</td>\n",
       "      <td>14</td>\n",
       "    </tr>\n",
       "    <tr>\n",
       "      <th>3</th>\n",
       "      <td>Bangalore</td>\n",
       "      <td>4</td>\n",
       "      <td>1</td>\n",
       "    </tr>\n",
       "    <tr>\n",
       "      <th>4</th>\n",
       "      <td>Chennai</td>\n",
       "      <td>1</td>\n",
       "      <td>500</td>\n",
       "    </tr>\n",
       "    <tr>\n",
       "      <th>5</th>\n",
       "      <td>Chennai</td>\n",
       "      <td>2</td>\n",
       "      <td>121</td>\n",
       "    </tr>\n",
       "    <tr>\n",
       "      <th>6</th>\n",
       "      <td>Chennai</td>\n",
       "      <td>3</td>\n",
       "      <td>16</td>\n",
       "    </tr>\n",
       "    <tr>\n",
       "      <th>7</th>\n",
       "      <td>Chennai</td>\n",
       "      <td>4</td>\n",
       "      <td>1</td>\n",
       "    </tr>\n",
       "    <tr>\n",
       "      <th>8</th>\n",
       "      <td>Delhi</td>\n",
       "      <td>1</td>\n",
       "      <td>558</td>\n",
       "    </tr>\n",
       "    <tr>\n",
       "      <th>9</th>\n",
       "      <td>Delhi</td>\n",
       "      <td>2</td>\n",
       "      <td>110</td>\n",
       "    </tr>\n",
       "    <tr>\n",
       "      <th>10</th>\n",
       "      <td>Delhi</td>\n",
       "      <td>3</td>\n",
       "      <td>6</td>\n",
       "    </tr>\n",
       "    <tr>\n",
       "      <th>11</th>\n",
       "      <td>Hyderabad</td>\n",
       "      <td>1</td>\n",
       "      <td>82</td>\n",
       "    </tr>\n",
       "    <tr>\n",
       "      <th>12</th>\n",
       "      <td>Hyderabad</td>\n",
       "      <td>2</td>\n",
       "      <td>33</td>\n",
       "    </tr>\n",
       "    <tr>\n",
       "      <th>13</th>\n",
       "      <td>Hyderabad</td>\n",
       "      <td>3</td>\n",
       "      <td>2</td>\n",
       "    </tr>\n",
       "    <tr>\n",
       "      <th>14</th>\n",
       "      <td>Hyderabad</td>\n",
       "      <td>5</td>\n",
       "      <td>1</td>\n",
       "    </tr>\n",
       "    <tr>\n",
       "      <th>15</th>\n",
       "      <td>Mumbai</td>\n",
       "      <td>1</td>\n",
       "      <td>937</td>\n",
       "    </tr>\n",
       "    <tr>\n",
       "      <th>16</th>\n",
       "      <td>Mumbai</td>\n",
       "      <td>2</td>\n",
       "      <td>168</td>\n",
       "    </tr>\n",
       "    <tr>\n",
       "      <th>17</th>\n",
       "      <td>Mumbai</td>\n",
       "      <td>3</td>\n",
       "      <td>19</td>\n",
       "    </tr>\n",
       "    <tr>\n",
       "      <th>18</th>\n",
       "      <td>Mumbai</td>\n",
       "      <td>4</td>\n",
       "      <td>2</td>\n",
       "    </tr>\n",
       "  </tbody>\n",
       "</table>\n",
       "</div>"
      ],
      "text/plain": [
       "     Location  Ownership  Count\n",
       "0   Bangalore          1    345\n",
       "1   Bangalore          2    118\n",
       "2   Bangalore          3     14\n",
       "3   Bangalore          4      1\n",
       "4     Chennai          1    500\n",
       "5     Chennai          2    121\n",
       "6     Chennai          3     16\n",
       "7     Chennai          4      1\n",
       "8       Delhi          1    558\n",
       "9       Delhi          2    110\n",
       "10      Delhi          3      6\n",
       "11  Hyderabad          1     82\n",
       "12  Hyderabad          2     33\n",
       "13  Hyderabad          3      2\n",
       "14  Hyderabad          5      1\n",
       "15     Mumbai          1    937\n",
       "16     Mumbai          2    168\n",
       "17     Mumbai          3     19\n",
       "18     Mumbai          4      2"
      ]
     },
     "execution_count": 43,
     "metadata": {},
     "output_type": "execute_result"
    }
   ],
   "source": [
    "location_owner = df.groupby(by=['Location','Ownership'])['Gear'].count().reset_index().rename(columns={'Gear':'Count'})\n",
    "location_owner"
   ]
  },
  {
   "cell_type": "code",
   "execution_count": 44,
   "id": "9fb231aa",
   "metadata": {},
   "outputs": [
    {
     "data": {
      "image/png": "[encoded data removed]",
      "text/plain": [
       "<Figure size 1080x864 with 1 Axes>"
      ]
     },
     "metadata": {
      "needs_background": "light"
     },
     "output_type": "display_data"
    }
   ],
   "source": [
    "plt.figure(figsize=(15,12))\n",
    "sns.barplot(x='Location',y='Count',data=location_owner,hue='Ownership')\n",
    "plt.title(\"No. of Cars in different cities based on Ownership\",fontsize=28)\n",
    "plt.show()"
   ]
  },
  {
   "cell_type": "code",
   "execution_count": 45,
   "id": "727af80b",
   "metadata": {},
   "outputs": [
    {
     "data": {
      "text/plain": [
       "array(['Maruti', 'Honda', 'Hyundai', 'Volkswagen', 'Datsun', 'Renault',\n",
       "       'Ford', 'Toyota', 'Skoda', 'Tata', 'Nissan', 'Audi', 'KIA', 'BMW',\n",
       "       'Mercedes', 'Mahindra', 'MG', 'Ssangyong', 'Jeep', 'Jaguar',\n",
       "       'Fiat'], dtype=object)"
      ]
     },
     "execution_count": 45,
     "metadata": {},
     "output_type": "execute_result"
    }
   ],
   "source": [
    "df['Car Brand'].unique()"
   ]
  },
  {
   "cell_type": "code",
   "execution_count": 46,
   "id": "fb62acaf",
   "metadata": {},
   "outputs": [
    {
     "data": {
      "text/plain": [
       "<bound method IndexOpsMixin.value_counts of 0        Maruti\n",
       "1         Honda\n",
       "2        Maruti\n",
       "3        Maruti\n",
       "4       Hyundai\n",
       "         ...   \n",
       "3029     Maruti\n",
       "3030     Maruti\n",
       "3031      Skoda\n",
       "3032    Renault\n",
       "3033     Maruti\n",
       "Name: Car Brand, Length: 3034, dtype: object>"
      ]
     },
     "execution_count": 46,
     "metadata": {},
     "output_type": "execute_result"
    }
   ],
   "source": [
    "df['Car Brand'].value_counts"
   ]
  },
  {
   "cell_type": "code",
   "execution_count": 47,
   "id": "3e3afb67",
   "metadata": {},
   "outputs": [
    {
     "data": {
      "text/html": [
       "<div>\n",
       "<style scoped>\n",
       "    .dataframe tbody tr th:only-of-type {\n",
       "        vertical-align: middle;\n",
       "    }\n",
       "\n",
       "    .dataframe tbody tr th {\n",
       "        vertical-align: top;\n",
       "    }\n",
       "\n",
       "    .dataframe thead th {\n",
       "        text-align: right;\n",
       "    }\n",
       "</style>\n",
       "<table border=\"1\" class=\"dataframe\">\n",
       "  <thead>\n",
       "    <tr style=\"text-align: right;\">\n",
       "      <th></th>\n",
       "      <th>Car Brand</th>\n",
       "      <th>Model</th>\n",
       "      <th>Price</th>\n",
       "      <th>Model Year</th>\n",
       "      <th>Location</th>\n",
       "      <th>Fuel</th>\n",
       "      <th>Driven (Kms)</th>\n",
       "      <th>Gear</th>\n",
       "      <th>Ownership</th>\n",
       "      <th>EMI (monthly)</th>\n",
       "    </tr>\n",
       "  </thead>\n",
       "  <tbody>\n",
       "    <tr>\n",
       "      <th>0</th>\n",
       "      <td>Maruti</td>\n",
       "      <td>['BalenoZETA 1.2 K12']</td>\n",
       "      <td>621899</td>\n",
       "      <td>2016</td>\n",
       "      <td>Hyderabad</td>\n",
       "      <td>Petrol</td>\n",
       "      <td>103354</td>\n",
       "      <td>['Manual']</td>\n",
       "      <td>1</td>\n",
       "      <td>13834</td>\n",
       "    </tr>\n",
       "    <tr>\n",
       "      <th>1</th>\n",
       "      <td>Honda</td>\n",
       "      <td>['Jazz1.2 V AT']</td>\n",
       "      <td>524199</td>\n",
       "      <td>2015</td>\n",
       "      <td>Hyderabad</td>\n",
       "      <td>Petrol</td>\n",
       "      <td>65571</td>\n",
       "      <td>['Automatic']</td>\n",
       "      <td>2</td>\n",
       "      <td>11661</td>\n",
       "    </tr>\n",
       "    <tr>\n",
       "      <th>2</th>\n",
       "      <td>Maruti</td>\n",
       "      <td>['SwiftZDI']</td>\n",
       "      <td>476699</td>\n",
       "      <td>2012</td>\n",
       "      <td>Hyderabad</td>\n",
       "      <td>Diesel</td>\n",
       "      <td>78819</td>\n",
       "      <td>['Manual']</td>\n",
       "      <td>2</td>\n",
       "      <td>10604</td>\n",
       "    </tr>\n",
       "    <tr>\n",
       "      <th>3</th>\n",
       "      <td>Maruti</td>\n",
       "      <td>['Alto 800LXI']</td>\n",
       "      <td>295499</td>\n",
       "      <td>2016</td>\n",
       "      <td>Hyderabad</td>\n",
       "      <td>Petrol</td>\n",
       "      <td>20215</td>\n",
       "      <td>['Manual']</td>\n",
       "      <td>2</td>\n",
       "      <td>6573</td>\n",
       "    </tr>\n",
       "    <tr>\n",
       "      <th>4</th>\n",
       "      <td>Hyundai</td>\n",
       "      <td>['i20SPORTZ 1.2 O']</td>\n",
       "      <td>378299</td>\n",
       "      <td>2010</td>\n",
       "      <td>Hyderabad</td>\n",
       "      <td>Petrol</td>\n",
       "      <td>79222</td>\n",
       "      <td>['Manual']</td>\n",
       "      <td>2</td>\n",
       "      <td>8415</td>\n",
       "    </tr>\n",
       "    <tr>\n",
       "      <th>...</th>\n",
       "      <td>...</td>\n",
       "      <td>...</td>\n",
       "      <td>...</td>\n",
       "      <td>...</td>\n",
       "      <td>...</td>\n",
       "      <td>...</td>\n",
       "      <td>...</td>\n",
       "      <td>...</td>\n",
       "      <td>...</td>\n",
       "      <td>...</td>\n",
       "    </tr>\n",
       "    <tr>\n",
       "      <th>3029</th>\n",
       "      <td>Maruti</td>\n",
       "      <td>['Alto 800LXI']</td>\n",
       "      <td>260499</td>\n",
       "      <td>2014</td>\n",
       "      <td>Chennai</td>\n",
       "      <td>Petrol</td>\n",
       "      <td>39845</td>\n",
       "      <td>['Manual']</td>\n",
       "      <td>3</td>\n",
       "      <td>5795</td>\n",
       "    </tr>\n",
       "    <tr>\n",
       "      <th>3030</th>\n",
       "      <td>Maruti</td>\n",
       "      <td>['CiazALPHA 1.3 DDIS SHVS']</td>\n",
       "      <td>691099</td>\n",
       "      <td>2017</td>\n",
       "      <td>Chennai</td>\n",
       "      <td>Diesel</td>\n",
       "      <td>93258</td>\n",
       "      <td>['Manual']</td>\n",
       "      <td>1</td>\n",
       "      <td>15373</td>\n",
       "    </tr>\n",
       "    <tr>\n",
       "      <th>3031</th>\n",
       "      <td>Skoda</td>\n",
       "      <td>['RapidStyle 1.5 TDI AT']</td>\n",
       "      <td>1077299</td>\n",
       "      <td>2018</td>\n",
       "      <td>Chennai</td>\n",
       "      <td>Diesel</td>\n",
       "      <td>64861</td>\n",
       "      <td>['Automatic']</td>\n",
       "      <td>1</td>\n",
       "      <td>23964</td>\n",
       "    </tr>\n",
       "    <tr>\n",
       "      <th>3032</th>\n",
       "      <td>Renault</td>\n",
       "      <td>['KwidRXT']</td>\n",
       "      <td>369799</td>\n",
       "      <td>2017</td>\n",
       "      <td>Chennai</td>\n",
       "      <td>Petrol</td>\n",
       "      <td>22293</td>\n",
       "      <td>['Manual']</td>\n",
       "      <td>1</td>\n",
       "      <td>8226</td>\n",
       "    </tr>\n",
       "    <tr>\n",
       "      <th>3033</th>\n",
       "      <td>Maruti</td>\n",
       "      <td>[]</td>\n",
       "      <td>357099</td>\n",
       "      <td>2017</td>\n",
       "      <td>Chennai</td>\n",
       "      <td>Petrol</td>\n",
       "      <td>18747</td>\n",
       "      <td>[]</td>\n",
       "      <td>3</td>\n",
       "      <td>7943</td>\n",
       "    </tr>\n",
       "  </tbody>\n",
       "</table>\n",
       "<p>3034 rows × 10 columns</p>\n",
       "</div>"
      ],
      "text/plain": [
       "     Car Brand                        Model    Price  Model Year   Location  \\\n",
       "0       Maruti       ['BalenoZETA 1.2 K12']   621899        2016  Hyderabad   \n",
       "1        Honda             ['Jazz1.2 V AT']   524199        2015  Hyderabad   \n",
       "2       Maruti                 ['SwiftZDI']   476699        2012  Hyderabad   \n",
       "3       Maruti              ['Alto 800LXI']   295499        2016  Hyderabad   \n",
       "4      Hyundai          ['i20SPORTZ 1.2 O']   378299        2010  Hyderabad   \n",
       "...        ...                          ...      ...         ...        ...   \n",
       "3029    Maruti              ['Alto 800LXI']   260499        2014    Chennai   \n",
       "3030    Maruti  ['CiazALPHA 1.3 DDIS SHVS']   691099        2017    Chennai   \n",
       "3031     Skoda    ['RapidStyle 1.5 TDI AT']  1077299        2018    Chennai   \n",
       "3032   Renault                  ['KwidRXT']   369799        2017    Chennai   \n",
       "3033    Maruti                           []   357099        2017    Chennai   \n",
       "\n",
       "        Fuel Driven (Kms)           Gear  Ownership EMI (monthly)  \n",
       "0     Petrol       103354     ['Manual']          1         13834  \n",
       "1     Petrol        65571  ['Automatic']          2         11661  \n",
       "2     Diesel        78819     ['Manual']          2         10604  \n",
       "3     Petrol        20215     ['Manual']          2          6573  \n",
       "4     Petrol        79222     ['Manual']          2          8415  \n",
       "...      ...          ...            ...        ...           ...  \n",
       "3029  Petrol        39845     ['Manual']          3          5795  \n",
       "3030  Diesel        93258     ['Manual']          1         15373  \n",
       "3031  Diesel        64861  ['Automatic']          1         23964  \n",
       "3032  Petrol        22293     ['Manual']          1          8226  \n",
       "3033  Petrol        18747             []          3          7943  \n",
       "\n",
       "[3034 rows x 10 columns]"
      ]
     },
     "execution_count": 47,
     "metadata": {},
     "output_type": "execute_result"
    }
   ],
   "source": [
    "df"
   ]
  },
  {
   "cell_type": "markdown",
   "id": "299826f7",
   "metadata": {},
   "source": [
    "# Comparision of car brand count in different Cities"
   ]
  },
  {
   "cell_type": "code",
   "execution_count": 40,
   "id": "04c6757f",
   "metadata": {},
   "outputs": [],
   "source": [
    "by_model = df.groupby(by=['Car Brand','Location'])['Price'].count().reset_index().rename(columns={'Price':'Count'})"
   ]
  },
  {
   "cell_type": "code",
   "execution_count": 41,
   "id": "5b50a0bb",
   "metadata": {},
   "outputs": [
    {
     "data": {
      "text/html": [
       "<div>\n",
       "<style scoped>\n",
       "    .dataframe tbody tr th:only-of-type {\n",
       "        vertical-align: middle;\n",
       "    }\n",
       "\n",
       "    .dataframe tbody tr th {\n",
       "        vertical-align: top;\n",
       "    }\n",
       "\n",
       "    .dataframe thead th {\n",
       "        text-align: right;\n",
       "    }\n",
       "</style>\n",
       "<table border=\"1\" class=\"dataframe\">\n",
       "  <thead>\n",
       "    <tr style=\"text-align: right;\">\n",
       "      <th></th>\n",
       "      <th>Car Brand</th>\n",
       "      <th>Location</th>\n",
       "      <th>Count</th>\n",
       "    </tr>\n",
       "  </thead>\n",
       "  <tbody>\n",
       "    <tr>\n",
       "      <th>0</th>\n",
       "      <td>Audi</td>\n",
       "      <td>Bangalore</td>\n",
       "      <td>1</td>\n",
       "    </tr>\n",
       "    <tr>\n",
       "      <th>1</th>\n",
       "      <td>Audi</td>\n",
       "      <td>Delhi</td>\n",
       "      <td>4</td>\n",
       "    </tr>\n",
       "    <tr>\n",
       "      <th>2</th>\n",
       "      <td>Audi</td>\n",
       "      <td>Mumbai</td>\n",
       "      <td>2</td>\n",
       "    </tr>\n",
       "    <tr>\n",
       "      <th>3</th>\n",
       "      <td>BMW</td>\n",
       "      <td>Delhi</td>\n",
       "      <td>4</td>\n",
       "    </tr>\n",
       "    <tr>\n",
       "      <th>4</th>\n",
       "      <td>BMW</td>\n",
       "      <td>Mumbai</td>\n",
       "      <td>9</td>\n",
       "    </tr>\n",
       "    <tr>\n",
       "      <th>...</th>\n",
       "      <td>...</td>\n",
       "      <td>...</td>\n",
       "      <td>...</td>\n",
       "    </tr>\n",
       "    <tr>\n",
       "      <th>70</th>\n",
       "      <td>Volkswagen</td>\n",
       "      <td>Bangalore</td>\n",
       "      <td>11</td>\n",
       "    </tr>\n",
       "    <tr>\n",
       "      <th>71</th>\n",
       "      <td>Volkswagen</td>\n",
       "      <td>Chennai</td>\n",
       "      <td>17</td>\n",
       "    </tr>\n",
       "    <tr>\n",
       "      <th>72</th>\n",
       "      <td>Volkswagen</td>\n",
       "      <td>Delhi</td>\n",
       "      <td>9</td>\n",
       "    </tr>\n",
       "    <tr>\n",
       "      <th>73</th>\n",
       "      <td>Volkswagen</td>\n",
       "      <td>Hyderabad</td>\n",
       "      <td>5</td>\n",
       "    </tr>\n",
       "    <tr>\n",
       "      <th>74</th>\n",
       "      <td>Volkswagen</td>\n",
       "      <td>Mumbai</td>\n",
       "      <td>33</td>\n",
       "    </tr>\n",
       "  </tbody>\n",
       "</table>\n",
       "<p>75 rows × 3 columns</p>\n",
       "</div>"
      ],
      "text/plain": [
       "     Car Brand   Location  Count\n",
       "0         Audi  Bangalore      1\n",
       "1         Audi      Delhi      4\n",
       "2         Audi     Mumbai      2\n",
       "3          BMW      Delhi      4\n",
       "4          BMW     Mumbai      9\n",
       "..         ...        ...    ...\n",
       "70  Volkswagen  Bangalore     11\n",
       "71  Volkswagen    Chennai     17\n",
       "72  Volkswagen      Delhi      9\n",
       "73  Volkswagen  Hyderabad      5\n",
       "74  Volkswagen     Mumbai     33\n",
       "\n",
       "[75 rows x 3 columns]"
      ]
     },
     "execution_count": 41,
     "metadata": {},
     "output_type": "execute_result"
    }
   ],
   "source": [
    "by_model"
   ]
  },
  {
   "cell_type": "code",
   "execution_count": 42,
   "id": "1c007acd",
   "metadata": {},
   "outputs": [
    {
     "data": {
      "image/png": "[encoded data removed]",
      "text/plain": [
       "<Figure size 1440x720 with 1 Axes>"
      ]
     },
     "metadata": {
      "needs_background": "light"
     },
     "output_type": "display_data"
    }
   ],
   "source": [
    "plt.figure(figsize=(20,10))\n",
    "sns.scatterplot(y='Count',x='Car Brand',hue='Location',data=by_model)\n",
    "plt.title(\"Car Brands count in different Cities\", fontsize =20)\n",
    "plt.show()"
   ]
  },
  {
   "cell_type": "code",
   "execution_count": 43,
   "id": "30189b6e",
   "metadata": {},
   "outputs": [
    {
     "data": {
      "text/html": [
       "<div>\n",
       "<style scoped>\n",
       "    .dataframe tbody tr th:only-of-type {\n",
       "        vertical-align: middle;\n",
       "    }\n",
       "\n",
       "    .dataframe tbody tr th {\n",
       "        vertical-align: top;\n",
       "    }\n",
       "\n",
       "    .dataframe thead th {\n",
       "        text-align: right;\n",
       "    }\n",
       "</style>\n",
       "<table border=\"1\" class=\"dataframe\">\n",
       "  <thead>\n",
       "    <tr style=\"text-align: right;\">\n",
       "      <th></th>\n",
       "      <th>Car Brand</th>\n",
       "      <th>Model</th>\n",
       "      <th>Price</th>\n",
       "      <th>Model Year</th>\n",
       "      <th>Location</th>\n",
       "      <th>Fuel</th>\n",
       "      <th>Driven (Kms)</th>\n",
       "      <th>Gear</th>\n",
       "      <th>Ownership</th>\n",
       "      <th>EMI (monthly)</th>\n",
       "    </tr>\n",
       "  </thead>\n",
       "  <tbody>\n",
       "    <tr>\n",
       "      <th>0</th>\n",
       "      <td>Maruti</td>\n",
       "      <td>['BalenoZETA 1.2 K12']</td>\n",
       "      <td>621899</td>\n",
       "      <td>2016</td>\n",
       "      <td>Hyderabad</td>\n",
       "      <td>Petrol</td>\n",
       "      <td>103354</td>\n",
       "      <td>['Manual']</td>\n",
       "      <td>1</td>\n",
       "      <td>13834</td>\n",
       "    </tr>\n",
       "    <tr>\n",
       "      <th>1</th>\n",
       "      <td>Honda</td>\n",
       "      <td>['Jazz1.2 V AT']</td>\n",
       "      <td>524199</td>\n",
       "      <td>2015</td>\n",
       "      <td>Hyderabad</td>\n",
       "      <td>Petrol</td>\n",
       "      <td>65571</td>\n",
       "      <td>['Automatic']</td>\n",
       "      <td>2</td>\n",
       "      <td>11661</td>\n",
       "    </tr>\n",
       "    <tr>\n",
       "      <th>2</th>\n",
       "      <td>Maruti</td>\n",
       "      <td>['SwiftZDI']</td>\n",
       "      <td>476699</td>\n",
       "      <td>2012</td>\n",
       "      <td>Hyderabad</td>\n",
       "      <td>Diesel</td>\n",
       "      <td>78819</td>\n",
       "      <td>['Manual']</td>\n",
       "      <td>2</td>\n",
       "      <td>10604</td>\n",
       "    </tr>\n",
       "    <tr>\n",
       "      <th>3</th>\n",
       "      <td>Maruti</td>\n",
       "      <td>['Alto 800LXI']</td>\n",
       "      <td>295499</td>\n",
       "      <td>2016</td>\n",
       "      <td>Hyderabad</td>\n",
       "      <td>Petrol</td>\n",
       "      <td>20215</td>\n",
       "      <td>['Manual']</td>\n",
       "      <td>2</td>\n",
       "      <td>6573</td>\n",
       "    </tr>\n",
       "    <tr>\n",
       "      <th>4</th>\n",
       "      <td>Hyundai</td>\n",
       "      <td>['i20SPORTZ 1.2 O']</td>\n",
       "      <td>378299</td>\n",
       "      <td>2010</td>\n",
       "      <td>Hyderabad</td>\n",
       "      <td>Petrol</td>\n",
       "      <td>79222</td>\n",
       "      <td>['Manual']</td>\n",
       "      <td>2</td>\n",
       "      <td>8415</td>\n",
       "    </tr>\n",
       "    <tr>\n",
       "      <th>...</th>\n",
       "      <td>...</td>\n",
       "      <td>...</td>\n",
       "      <td>...</td>\n",
       "      <td>...</td>\n",
       "      <td>...</td>\n",
       "      <td>...</td>\n",
       "      <td>...</td>\n",
       "      <td>...</td>\n",
       "      <td>...</td>\n",
       "      <td>...</td>\n",
       "    </tr>\n",
       "    <tr>\n",
       "      <th>3029</th>\n",
       "      <td>Maruti</td>\n",
       "      <td>['Alto 800LXI']</td>\n",
       "      <td>260499</td>\n",
       "      <td>2014</td>\n",
       "      <td>Chennai</td>\n",
       "      <td>Petrol</td>\n",
       "      <td>39845</td>\n",
       "      <td>['Manual']</td>\n",
       "      <td>3</td>\n",
       "      <td>5795</td>\n",
       "    </tr>\n",
       "    <tr>\n",
       "      <th>3030</th>\n",
       "      <td>Maruti</td>\n",
       "      <td>['CiazALPHA 1.3 DDIS SHVS']</td>\n",
       "      <td>691099</td>\n",
       "      <td>2017</td>\n",
       "      <td>Chennai</td>\n",
       "      <td>Diesel</td>\n",
       "      <td>93258</td>\n",
       "      <td>['Manual']</td>\n",
       "      <td>1</td>\n",
       "      <td>15373</td>\n",
       "    </tr>\n",
       "    <tr>\n",
       "      <th>3031</th>\n",
       "      <td>Skoda</td>\n",
       "      <td>['RapidStyle 1.5 TDI AT']</td>\n",
       "      <td>1077299</td>\n",
       "      <td>2018</td>\n",
       "      <td>Chennai</td>\n",
       "      <td>Diesel</td>\n",
       "      <td>64861</td>\n",
       "      <td>['Automatic']</td>\n",
       "      <td>1</td>\n",
       "      <td>23964</td>\n",
       "    </tr>\n",
       "    <tr>\n",
       "      <th>3032</th>\n",
       "      <td>Renault</td>\n",
       "      <td>['KwidRXT']</td>\n",
       "      <td>369799</td>\n",
       "      <td>2017</td>\n",
       "      <td>Chennai</td>\n",
       "      <td>Petrol</td>\n",
       "      <td>22293</td>\n",
       "      <td>['Manual']</td>\n",
       "      <td>1</td>\n",
       "      <td>8226</td>\n",
       "    </tr>\n",
       "    <tr>\n",
       "      <th>3033</th>\n",
       "      <td>Maruti</td>\n",
       "      <td>[]</td>\n",
       "      <td>357099</td>\n",
       "      <td>2017</td>\n",
       "      <td>Chennai</td>\n",
       "      <td>Petrol</td>\n",
       "      <td>18747</td>\n",
       "      <td>[]</td>\n",
       "      <td>3</td>\n",
       "      <td>7943</td>\n",
       "    </tr>\n",
       "  </tbody>\n",
       "</table>\n",
       "<p>3034 rows × 10 columns</p>\n",
       "</div>"
      ],
      "text/plain": [
       "     Car Brand                        Model    Price  Model Year   Location  \\\n",
       "0       Maruti       ['BalenoZETA 1.2 K12']   621899        2016  Hyderabad   \n",
       "1        Honda             ['Jazz1.2 V AT']   524199        2015  Hyderabad   \n",
       "2       Maruti                 ['SwiftZDI']   476699        2012  Hyderabad   \n",
       "3       Maruti              ['Alto 800LXI']   295499        2016  Hyderabad   \n",
       "4      Hyundai          ['i20SPORTZ 1.2 O']   378299        2010  Hyderabad   \n",
       "...        ...                          ...      ...         ...        ...   \n",
       "3029    Maruti              ['Alto 800LXI']   260499        2014    Chennai   \n",
       "3030    Maruti  ['CiazALPHA 1.3 DDIS SHVS']   691099        2017    Chennai   \n",
       "3031     Skoda    ['RapidStyle 1.5 TDI AT']  1077299        2018    Chennai   \n",
       "3032   Renault                  ['KwidRXT']   369799        2017    Chennai   \n",
       "3033    Maruti                           []   357099        2017    Chennai   \n",
       "\n",
       "        Fuel Driven (Kms)           Gear  Ownership EMI (monthly)  \n",
       "0     Petrol       103354     ['Manual']          1         13834  \n",
       "1     Petrol        65571  ['Automatic']          2         11661  \n",
       "2     Diesel        78819     ['Manual']          2         10604  \n",
       "3     Petrol        20215     ['Manual']          2          6573  \n",
       "4     Petrol        79222     ['Manual']          2          8415  \n",
       "...      ...          ...            ...        ...           ...  \n",
       "3029  Petrol        39845     ['Manual']          3          5795  \n",
       "3030  Diesel        93258     ['Manual']          1         15373  \n",
       "3031  Diesel        64861  ['Automatic']          1         23964  \n",
       "3032  Petrol        22293     ['Manual']          1          8226  \n",
       "3033  Petrol        18747             []          3          7943  \n",
       "\n",
       "[3034 rows x 10 columns]"
      ]
     },
     "execution_count": 43,
     "metadata": {},
     "output_type": "execute_result"
    }
   ],
   "source": [
    "df"
   ]
  },
  {
   "cell_type": "markdown",
   "id": "e9242c2b",
   "metadata": {},
   "source": [
    "# Label Encoding:"
   ]
  },
  {
   "cell_type": "code",
   "execution_count": 44,
   "id": "d706ed58",
   "metadata": {},
   "outputs": [],
   "source": [
    "#importing Label Encoder \n",
    "from sklearn.preprocessing import LabelEncoder\n",
    "le = LabelEncoder()"
   ]
  },
  {
   "cell_type": "code",
   "execution_count": 45,
   "id": "85e06131",
   "metadata": {},
   "outputs": [],
   "source": [
    "df['Car Brand'] = le.fit_transform(df['Car Brand'])"
   ]
  },
  {
   "cell_type": "code",
   "execution_count": 46,
   "id": "03d839df",
   "metadata": {},
   "outputs": [],
   "source": [
    "df['Model'] = le.fit_transform(df['Model'])"
   ]
  },
  {
   "cell_type": "code",
   "execution_count": 47,
   "id": "53be14ac",
   "metadata": {},
   "outputs": [],
   "source": [
    "df['Location'] = le.fit_transform(df['Location'])"
   ]
  },
  {
   "cell_type": "code",
   "execution_count": 48,
   "id": "c6d12732",
   "metadata": {},
   "outputs": [],
   "source": [
    "df['Fuel'] = le.fit_transform(df['Fuel'])"
   ]
  },
  {
   "cell_type": "code",
   "execution_count": 49,
   "id": "81be7a36",
   "metadata": {},
   "outputs": [],
   "source": [
    "df['Gear'] = le.fit_transform(df['Gear'])"
   ]
  },
  {
   "cell_type": "code",
   "execution_count": 50,
   "id": "805272a6",
   "metadata": {},
   "outputs": [
    {
     "data": {
      "text/html": [
       "<div>\n",
       "<style scoped>\n",
       "    .dataframe tbody tr th:only-of-type {\n",
       "        vertical-align: middle;\n",
       "    }\n",
       "\n",
       "    .dataframe tbody tr th {\n",
       "        vertical-align: top;\n",
       "    }\n",
       "\n",
       "    .dataframe thead th {\n",
       "        text-align: right;\n",
       "    }\n",
       "</style>\n",
       "<table border=\"1\" class=\"dataframe\">\n",
       "  <thead>\n",
       "    <tr style=\"text-align: right;\">\n",
       "      <th></th>\n",
       "      <th>Car Brand</th>\n",
       "      <th>Model</th>\n",
       "      <th>Price</th>\n",
       "      <th>Model Year</th>\n",
       "      <th>Location</th>\n",
       "      <th>Fuel</th>\n",
       "      <th>Driven (Kms)</th>\n",
       "      <th>Gear</th>\n",
       "      <th>Ownership</th>\n",
       "      <th>EMI (monthly)</th>\n",
       "    </tr>\n",
       "  </thead>\n",
       "  <tbody>\n",
       "    <tr>\n",
       "      <th>0</th>\n",
       "      <td>12</td>\n",
       "      <td>57</td>\n",
       "      <td>621899</td>\n",
       "      <td>2016</td>\n",
       "      <td>3</td>\n",
       "      <td>1</td>\n",
       "      <td>103354</td>\n",
       "      <td>1</td>\n",
       "      <td>1</td>\n",
       "      <td>13834</td>\n",
       "    </tr>\n",
       "    <tr>\n",
       "      <th>1</th>\n",
       "      <td>5</td>\n",
       "      <td>328</td>\n",
       "      <td>524199</td>\n",
       "      <td>2015</td>\n",
       "      <td>3</td>\n",
       "      <td>1</td>\n",
       "      <td>65571</td>\n",
       "      <td>0</td>\n",
       "      <td>2</td>\n",
       "      <td>11661</td>\n",
       "    </tr>\n",
       "    <tr>\n",
       "      <th>2</th>\n",
       "      <td>12</td>\n",
       "      <td>473</td>\n",
       "      <td>476699</td>\n",
       "      <td>2012</td>\n",
       "      <td>3</td>\n",
       "      <td>0</td>\n",
       "      <td>78819</td>\n",
       "      <td>1</td>\n",
       "      <td>2</td>\n",
       "      <td>10604</td>\n",
       "    </tr>\n",
       "    <tr>\n",
       "      <th>3</th>\n",
       "      <td>12</td>\n",
       "      <td>15</td>\n",
       "      <td>295499</td>\n",
       "      <td>2016</td>\n",
       "      <td>3</td>\n",
       "      <td>1</td>\n",
       "      <td>20215</td>\n",
       "      <td>1</td>\n",
       "      <td>2</td>\n",
       "      <td>6573</td>\n",
       "    </tr>\n",
       "    <tr>\n",
       "      <th>4</th>\n",
       "      <td>6</td>\n",
       "      <td>607</td>\n",
       "      <td>378299</td>\n",
       "      <td>2010</td>\n",
       "      <td>3</td>\n",
       "      <td>1</td>\n",
       "      <td>79222</td>\n",
       "      <td>1</td>\n",
       "      <td>2</td>\n",
       "      <td>8415</td>\n",
       "    </tr>\n",
       "    <tr>\n",
       "      <th>...</th>\n",
       "      <td>...</td>\n",
       "      <td>...</td>\n",
       "      <td>...</td>\n",
       "      <td>...</td>\n",
       "      <td>...</td>\n",
       "      <td>...</td>\n",
       "      <td>...</td>\n",
       "      <td>...</td>\n",
       "      <td>...</td>\n",
       "      <td>...</td>\n",
       "    </tr>\n",
       "    <tr>\n",
       "      <th>3029</th>\n",
       "      <td>12</td>\n",
       "      <td>15</td>\n",
       "      <td>260499</td>\n",
       "      <td>2014</td>\n",
       "      <td>1</td>\n",
       "      <td>1</td>\n",
       "      <td>39845</td>\n",
       "      <td>1</td>\n",
       "      <td>3</td>\n",
       "      <td>5795</td>\n",
       "    </tr>\n",
       "    <tr>\n",
       "      <th>3030</th>\n",
       "      <td>12</td>\n",
       "      <td>87</td>\n",
       "      <td>691099</td>\n",
       "      <td>2017</td>\n",
       "      <td>1</td>\n",
       "      <td>0</td>\n",
       "      <td>93258</td>\n",
       "      <td>1</td>\n",
       "      <td>1</td>\n",
       "      <td>15373</td>\n",
       "    </tr>\n",
       "    <tr>\n",
       "      <th>3031</th>\n",
       "      <td>16</td>\n",
       "      <td>405</td>\n",
       "      <td>1077299</td>\n",
       "      <td>2018</td>\n",
       "      <td>1</td>\n",
       "      <td>0</td>\n",
       "      <td>64861</td>\n",
       "      <td>0</td>\n",
       "      <td>1</td>\n",
       "      <td>23964</td>\n",
       "    </tr>\n",
       "    <tr>\n",
       "      <th>3032</th>\n",
       "      <td>15</td>\n",
       "      <td>349</td>\n",
       "      <td>369799</td>\n",
       "      <td>2017</td>\n",
       "      <td>1</td>\n",
       "      <td>1</td>\n",
       "      <td>22293</td>\n",
       "      <td>1</td>\n",
       "      <td>1</td>\n",
       "      <td>8226</td>\n",
       "    </tr>\n",
       "    <tr>\n",
       "      <th>3033</th>\n",
       "      <td>12</td>\n",
       "      <td>611</td>\n",
       "      <td>357099</td>\n",
       "      <td>2017</td>\n",
       "      <td>1</td>\n",
       "      <td>1</td>\n",
       "      <td>18747</td>\n",
       "      <td>2</td>\n",
       "      <td>3</td>\n",
       "      <td>7943</td>\n",
       "    </tr>\n",
       "  </tbody>\n",
       "</table>\n",
       "<p>3034 rows × 10 columns</p>\n",
       "</div>"
      ],
      "text/plain": [
       "      Car Brand  Model    Price  Model Year  Location  Fuel Driven (Kms)  \\\n",
       "0            12     57   621899        2016         3     1       103354   \n",
       "1             5    328   524199        2015         3     1        65571   \n",
       "2            12    473   476699        2012         3     0        78819   \n",
       "3            12     15   295499        2016         3     1        20215   \n",
       "4             6    607   378299        2010         3     1        79222   \n",
       "...         ...    ...      ...         ...       ...   ...          ...   \n",
       "3029         12     15   260499        2014         1     1        39845   \n",
       "3030         12     87   691099        2017         1     0        93258   \n",
       "3031         16    405  1077299        2018         1     0        64861   \n",
       "3032         15    349   369799        2017         1     1        22293   \n",
       "3033         12    611   357099        2017         1     1        18747   \n",
       "\n",
       "      Gear  Ownership EMI (monthly)  \n",
       "0        1          1         13834  \n",
       "1        0          2         11661  \n",
       "2        1          2         10604  \n",
       "3        1          2          6573  \n",
       "4        1          2          8415  \n",
       "...    ...        ...           ...  \n",
       "3029     1          3          5795  \n",
       "3030     1          1         15373  \n",
       "3031     0          1         23964  \n",
       "3032     1          1          8226  \n",
       "3033     2          3          7943  \n",
       "\n",
       "[3034 rows x 10 columns]"
      ]
     },
     "execution_count": 50,
     "metadata": {},
     "output_type": "execute_result"
    }
   ],
   "source": [
    "df"
   ]
  },
  {
   "cell_type": "markdown",
   "id": "b06f2af3",
   "metadata": {},
   "source": [
    "# Correlation:"
   ]
  },
  {
   "cell_type": "code",
   "execution_count": 51,
   "id": "869e904c",
   "metadata": {},
   "outputs": [
    {
     "data": {
      "text/html": [
       "<div>\n",
       "<style scoped>\n",
       "    .dataframe tbody tr th:only-of-type {\n",
       "        vertical-align: middle;\n",
       "    }\n",
       "\n",
       "    .dataframe tbody tr th {\n",
       "        vertical-align: top;\n",
       "    }\n",
       "\n",
       "    .dataframe thead th {\n",
       "        text-align: right;\n",
       "    }\n",
       "</style>\n",
       "<table border=\"1\" class=\"dataframe\">\n",
       "  <thead>\n",
       "    <tr style=\"text-align: right;\">\n",
       "      <th></th>\n",
       "      <th>Car Brand</th>\n",
       "      <th>Model</th>\n",
       "      <th>Model Year</th>\n",
       "      <th>Location</th>\n",
       "      <th>Fuel</th>\n",
       "      <th>Gear</th>\n",
       "      <th>Ownership</th>\n",
       "    </tr>\n",
       "  </thead>\n",
       "  <tbody>\n",
       "    <tr>\n",
       "      <th>Car Brand</th>\n",
       "      <td>1.000000</td>\n",
       "      <td>0.078219</td>\n",
       "      <td>0.046702</td>\n",
       "      <td>-0.017533</td>\n",
       "      <td>-0.041568</td>\n",
       "      <td>-0.010808</td>\n",
       "      <td>-0.041476</td>\n",
       "    </tr>\n",
       "    <tr>\n",
       "      <th>Model</th>\n",
       "      <td>0.078219</td>\n",
       "      <td>1.000000</td>\n",
       "      <td>-0.110138</td>\n",
       "      <td>-0.002373</td>\n",
       "      <td>-0.134076</td>\n",
       "      <td>0.112784</td>\n",
       "      <td>0.007327</td>\n",
       "    </tr>\n",
       "    <tr>\n",
       "      <th>Model Year</th>\n",
       "      <td>0.046702</td>\n",
       "      <td>-0.110138</td>\n",
       "      <td>1.000000</td>\n",
       "      <td>0.073831</td>\n",
       "      <td>0.108095</td>\n",
       "      <td>-0.132639</td>\n",
       "      <td>-0.181731</td>\n",
       "    </tr>\n",
       "    <tr>\n",
       "      <th>Location</th>\n",
       "      <td>-0.017533</td>\n",
       "      <td>-0.002373</td>\n",
       "      <td>0.073831</td>\n",
       "      <td>1.000000</td>\n",
       "      <td>-0.120397</td>\n",
       "      <td>-0.098900</td>\n",
       "      <td>-0.074950</td>\n",
       "    </tr>\n",
       "    <tr>\n",
       "      <th>Fuel</th>\n",
       "      <td>-0.041568</td>\n",
       "      <td>-0.134076</td>\n",
       "      <td>0.108095</td>\n",
       "      <td>-0.120397</td>\n",
       "      <td>1.000000</td>\n",
       "      <td>-0.043363</td>\n",
       "      <td>0.026760</td>\n",
       "    </tr>\n",
       "    <tr>\n",
       "      <th>Gear</th>\n",
       "      <td>-0.010808</td>\n",
       "      <td>0.112784</td>\n",
       "      <td>-0.132639</td>\n",
       "      <td>-0.098900</td>\n",
       "      <td>-0.043363</td>\n",
       "      <td>1.000000</td>\n",
       "      <td>-0.032463</td>\n",
       "    </tr>\n",
       "    <tr>\n",
       "      <th>Ownership</th>\n",
       "      <td>-0.041476</td>\n",
       "      <td>0.007327</td>\n",
       "      <td>-0.181731</td>\n",
       "      <td>-0.074950</td>\n",
       "      <td>0.026760</td>\n",
       "      <td>-0.032463</td>\n",
       "      <td>1.000000</td>\n",
       "    </tr>\n",
       "  </tbody>\n",
       "</table>\n",
       "</div>"
      ],
      "text/plain": [
       "            Car Brand     Model  Model Year  Location      Fuel      Gear  \\\n",
       "Car Brand    1.000000  0.078219    0.046702 -0.017533 -0.041568 -0.010808   \n",
       "Model        0.078219  1.000000   -0.110138 -0.002373 -0.134076  0.112784   \n",
       "Model Year   0.046702 -0.110138    1.000000  0.073831  0.108095 -0.132639   \n",
       "Location    -0.017533 -0.002373    0.073831  1.000000 -0.120397 -0.098900   \n",
       "Fuel        -0.041568 -0.134076    0.108095 -0.120397  1.000000 -0.043363   \n",
       "Gear        -0.010808  0.112784   -0.132639 -0.098900 -0.043363  1.000000   \n",
       "Ownership   -0.041476  0.007327   -0.181731 -0.074950  0.026760 -0.032463   \n",
       "\n",
       "            Ownership  \n",
       "Car Brand   -0.041476  \n",
       "Model        0.007327  \n",
       "Model Year  -0.181731  \n",
       "Location    -0.074950  \n",
       "Fuel         0.026760  \n",
       "Gear        -0.032463  \n",
       "Ownership    1.000000  "
      ]
     },
     "execution_count": 51,
     "metadata": {},
     "output_type": "execute_result"
    }
   ],
   "source": [
    "df.corr()"
   ]
  },
  {
   "cell_type": "code",
   "execution_count": 52,
   "id": "f44a7078",
   "metadata": {},
   "outputs": [
    {
     "data": {
      "image/png": "[encoded data removed]",
      "text/plain": [
       "<Figure size 720x576 with 2 Axes>"
      ]
     },
     "metadata": {
      "needs_background": "light"
     },
     "output_type": "display_data"
    }
   ],
   "source": [
    "plt.figure(figsize=(10,8))\n",
    "sns.heatmap(df.corr(),linewidths=0.1,fmt='0.1f',annot=True)\n",
    "plt.show()"
   ]
  },
  {
   "cell_type": "markdown",
   "id": "6f5b47f8",
   "metadata": {},
   "source": [
    "# Checking For Outliers:"
   ]
  },
  {
   "cell_type": "code",
   "execution_count": 53,
   "id": "733c8ae7",
   "metadata": {},
   "outputs": [],
   "source": [
    "X = df.drop(columns = ['Price'])\n",
    "y = df['Price']"
   ]
  },
  {
   "cell_type": "code",
   "execution_count": 54,
   "id": "eeb6f4cd",
   "metadata": {},
   "outputs": [
    {
     "data": {
      "image/png": "[encoded data removed]",
      "text/plain": [
       "<Figure size 576x432 with 1 Axes>"
      ]
     },
     "metadata": {
      "needs_background": "light"
     },
     "output_type": "display_data"
    }
   ],
   "source": [
    "plt.figure(figsize=(8,6))\n",
    "sns.boxplot(df['Car Brand'])\n",
    "plt.show()"
   ]
  },
  {
   "cell_type": "code",
   "execution_count": 55,
   "id": "501fdeee",
   "metadata": {},
   "outputs": [
    {
     "data": {
      "image/png": "[encoded data removed]",
      "text/plain": [
       "<Figure size 576x432 with 1 Axes>"
      ]
     },
     "metadata": {
      "needs_background": "light"
     },
     "output_type": "display_data"
    }
   ],
   "source": [
    "plt.figure(figsize=(8,6))\n",
    "sns.boxplot(df['Model'])\n",
    "plt.show()"
   ]
  },
  {
   "cell_type": "code",
   "execution_count": 56,
   "id": "0c80f5f3",
   "metadata": {},
   "outputs": [
    {
     "data": {
      "image/png": "[encoded data removed]",
      "text/plain": [
       "<Figure size 576x432 with 1 Axes>"
      ]
     },
     "metadata": {
      "needs_background": "light"
     },
     "output_type": "display_data"
    }
   ],
   "source": [
    "plt.figure(figsize=(8,6))\n",
    "sns.boxplot(df['Model Year'])\n",
    "plt.show()"
   ]
  },
  {
   "cell_type": "code",
   "execution_count": 57,
   "id": "e298a7d2",
   "metadata": {},
   "outputs": [
    {
     "data": {
      "image/png": "[encoded data removed]",
      "text/plain": [
       "<Figure size 576x432 with 1 Axes>"
      ]
     },
     "metadata": {
      "needs_background": "light"
     },
     "output_type": "display_data"
    }
   ],
   "source": [
    "plt.figure(figsize=(8,6))\n",
    "sns.boxplot(df['Location'])\n",
    "plt.show()"
   ]
  },
  {
   "cell_type": "code",
   "execution_count": 58,
   "id": "86c7d4b9",
   "metadata": {},
   "outputs": [
    {
     "data": {
      "image/png": "[encoded data removed]",
      "text/plain": [
       "<Figure size 576x432 with 1 Axes>"
      ]
     },
     "metadata": {
      "needs_background": "light"
     },
     "output_type": "display_data"
    }
   ],
   "source": [
    "plt.figure(figsize=(8,6))\n",
    "sns.boxplot(df['Fuel'])\n",
    "plt.show()"
   ]
  },
  {
   "cell_type": "code",
   "execution_count": 59,
   "id": "b6bbbf89",
   "metadata": {},
   "outputs": [
    {
     "data": {
      "image/png": "[encoded data removed]",
      "text/plain": [
       "<Figure size 576x432 with 1 Axes>"
      ]
     },
     "metadata": {
      "needs_background": "light"
     },
     "output_type": "display_data"
    }
   ],
   "source": [
    "plt.figure(figsize=(8,6))\n",
    "sns.boxplot(df['Gear'])\n",
    "plt.show()"
   ]
  },
  {
   "cell_type": "code",
   "execution_count": 60,
   "id": "d33e4c41",
   "metadata": {},
   "outputs": [
    {
     "data": {
      "image/png": "[encoded data removed]",
      "text/plain": [
       "<Figure size 576x432 with 1 Axes>"
      ]
     },
     "metadata": {
      "needs_background": "light"
     },
     "output_type": "display_data"
    }
   ],
   "source": [
    "plt.figure(figsize=(8,6))\n",
    "sns.boxplot(df['Ownership'])\n",
    "plt.show()"
   ]
  },
  {
   "cell_type": "markdown",
   "id": "1cec786f",
   "metadata": {},
   "source": [
    "# Removing Outliers:"
   ]
  },
  {
   "cell_type": "code",
   "execution_count": 61,
   "id": "eabde466",
   "metadata": {},
   "outputs": [],
   "source": [
    "from scipy.stats import zscore\n",
    "z = zscore"
   ]
  },
  {
   "cell_type": "code",
   "execution_count": 62,
   "id": "c0eaa29c",
   "metadata": {},
   "outputs": [],
   "source": [
    "df1 =  X[['Ownership','Gear','Model Year']].copy()"
   ]
  },
  {
   "cell_type": "code",
   "execution_count": 63,
   "id": "446d23b5",
   "metadata": {},
   "outputs": [],
   "source": [
    "Z = zscore(df1)"
   ]
  },
  {
   "cell_type": "code",
   "execution_count": 64,
   "id": "3c9c22e2",
   "metadata": {},
   "outputs": [],
   "source": [
    "z_abs_score = np.abs(Z)"
   ]
  },
  {
   "cell_type": "code",
   "execution_count": 65,
   "id": "00c26419",
   "metadata": {},
   "outputs": [],
   "source": [
    "df2 = df1[(z_abs_score < 3).all(axis=1)]"
   ]
  },
  {
   "cell_type": "code",
   "execution_count": 66,
   "id": "278870dc",
   "metadata": {},
   "outputs": [
    {
     "data": {
      "text/plain": [
       "(2959, 3)"
      ]
     },
     "execution_count": 66,
     "metadata": {},
     "output_type": "execute_result"
    }
   ],
   "source": [
    "df2.shape"
   ]
  },
  {
   "cell_type": "code",
   "execution_count": 67,
   "id": "7ee353d1",
   "metadata": {},
   "outputs": [
    {
     "data": {
      "text/plain": [
       "(3034, 3)"
      ]
     },
     "execution_count": 67,
     "metadata": {},
     "output_type": "execute_result"
    }
   ],
   "source": [
    "df1.shape"
   ]
  },
  {
   "cell_type": "code",
   "execution_count": 68,
   "id": "cc4beb71",
   "metadata": {},
   "outputs": [],
   "source": [
    "dropindx = X.index.difference(df2.index)"
   ]
  },
  {
   "cell_type": "code",
   "execution_count": 69,
   "id": "66cf3834",
   "metadata": {},
   "outputs": [],
   "source": [
    "df.drop(dropindx,inplace = True) #dropping the outlier Dataframe"
   ]
  },
  {
   "cell_type": "code",
   "execution_count": 70,
   "id": "d61d44cb",
   "metadata": {},
   "outputs": [
    {
     "data": {
      "text/plain": [
       "(2959, 10)"
      ]
     },
     "execution_count": 70,
     "metadata": {},
     "output_type": "execute_result"
    }
   ],
   "source": [
    "df.shape"
   ]
  },
  {
   "cell_type": "markdown",
   "id": "6af1b57c",
   "metadata": {},
   "source": [
    "# Skewness:"
   ]
  },
  {
   "cell_type": "code",
   "execution_count": 71,
   "id": "2ad9322d",
   "metadata": {},
   "outputs": [
    {
     "data": {
      "text/plain": [
       "Car Brand        0.202041\n",
       "Model            0.035684\n",
       "Price            2.202381\n",
       "Model Year      -0.477701\n",
       "Location        -0.076168\n",
       "Fuel            -0.828273\n",
       "Driven (Kms)     1.612460\n",
       "Gear            -1.039605\n",
       "Ownership        1.627382\n",
       "EMI (monthly)    2.202381\n",
       "dtype: float64"
      ]
     },
     "execution_count": 71,
     "metadata": {},
     "output_type": "execute_result"
    }
   ],
   "source": [
    "df.skew()"
   ]
  },
  {
   "cell_type": "code",
   "execution_count": 72,
   "id": "ae1617a3",
   "metadata": {
    "scrolled": true
   },
   "outputs": [
    {
     "data": {
      "text/plain": [
       "Car Brand        0.206121\n",
       "Model            0.034507\n",
       "Model Year      -0.577649\n",
       "Location        -0.069799\n",
       "Fuel            -0.786651\n",
       "Driven (Kms)     1.592497\n",
       "Gear            -1.028127\n",
       "Ownership        2.150350\n",
       "EMI (monthly)    2.198946\n",
       "dtype: float64"
      ]
     },
     "execution_count": 72,
     "metadata": {},
     "output_type": "execute_result"
    }
   ],
   "source": [
    "X.skew()"
   ]
  },
  {
   "cell_type": "markdown",
   "id": "0fb87d1c",
   "metadata": {},
   "source": [
    "# Plotting Skewness:"
   ]
  },
  {
   "cell_type": "code",
   "execution_count": 73,
   "id": "75363c3b",
   "metadata": {},
   "outputs": [
    {
     "data": {
      "image/png": "[encoded data removed]",
      "text/plain": [
       "<Figure size 576x432 with 1 Axes>"
      ]
     },
     "metadata": {
      "needs_background": "light"
     },
     "output_type": "display_data"
    }
   ],
   "source": [
    "plt.figure(figsize=(8,6))\n",
    "sns.distplot(df['Car Brand'])\n",
    "plt.show()"
   ]
  },
  {
   "cell_type": "code",
   "execution_count": 74,
   "id": "a5b0f4df",
   "metadata": {},
   "outputs": [
    {
     "data": {
      "image/png": "[encoded data removed]",
      "text/plain": [
       "<Figure size 576x432 with 1 Axes>"
      ]
     },
     "metadata": {
      "needs_background": "light"
     },
     "output_type": "display_data"
    }
   ],
   "source": [
    "plt.figure(figsize=(8,6))\n",
    "sns.distplot(df['Model'])\n",
    "plt.show()"
   ]
  },
  {
   "cell_type": "code",
   "execution_count": 75,
   "id": "b75ce185",
   "metadata": {},
   "outputs": [
    {
     "data": {
      "image/png": "[encoded data removed]",
      "text/plain": [
       "<Figure size 576x432 with 1 Axes>"
      ]
     },
     "metadata": {
      "needs_background": "light"
     },
     "output_type": "display_data"
    }
   ],
   "source": [
    "plt.figure(figsize=(8,6))\n",
    "sns.distplot(df['Model Year'])\n",
    "plt.show()"
   ]
  },
  {
   "cell_type": "code",
   "execution_count": 76,
   "id": "73e96285",
   "metadata": {},
   "outputs": [
    {
     "data": {
      "image/png": "[encoded data removed]",
      "text/plain": [
       "<Figure size 576x432 with 1 Axes>"
      ]
     },
     "metadata": {
      "needs_background": "light"
     },
     "output_type": "display_data"
    }
   ],
   "source": [
    "plt.figure(figsize=(8,6))\n",
    "sns.distplot(df['Location'])\n",
    "plt.show()"
   ]
  },
  {
   "cell_type": "code",
   "execution_count": 77,
   "id": "069def58",
   "metadata": {},
   "outputs": [
    {
     "data": {
      "image/png": "[encoded data removed]",
      "text/plain": [
       "<Figure size 576x432 with 1 Axes>"
      ]
     },
     "metadata": {
      "needs_background": "light"
     },
     "output_type": "display_data"
    }
   ],
   "source": [
    "plt.figure(figsize=(8,6))\n",
    "sns.distplot(df['Fuel'])\n",
    "plt.show()"
   ]
  },
  {
   "cell_type": "code",
   "execution_count": 78,
   "id": "e84c1ff9",
   "metadata": {},
   "outputs": [
    {
     "data": {
      "image/png": "[encoded data removed]",
      "text/plain": [
       "<Figure size 576x432 with 1 Axes>"
      ]
     },
     "metadata": {
      "needs_background": "light"
     },
     "output_type": "display_data"
    }
   ],
   "source": [
    "plt.figure(figsize=(8,6))\n",
    "sns.distplot(df['Driven (Kms)'])\n",
    "plt.show()"
   ]
  },
  {
   "cell_type": "code",
   "execution_count": 79,
   "id": "e8391ad8",
   "metadata": {},
   "outputs": [
    {
     "data": {
      "image/png": "[encoded data removed]",
      "text/plain": [
       "<Figure size 576x432 with 1 Axes>"
      ]
     },
     "metadata": {
      "needs_background": "light"
     },
     "output_type": "display_data"
    }
   ],
   "source": [
    "plt.figure(figsize=(8,6))\n",
    "sns.distplot(df['Gear'])\n",
    "plt.show()"
   ]
  },
  {
   "cell_type": "code",
   "execution_count": 80,
   "id": "282aaeb9",
   "metadata": {},
   "outputs": [
    {
     "data": {
      "image/png": "[encoded data removed]",
      "text/plain": [
       "<Figure size 576x432 with 1 Axes>"
      ]
     },
     "metadata": {
      "needs_background": "light"
     },
     "output_type": "display_data"
    }
   ],
   "source": [
    "plt.figure(figsize=(8,6))\n",
    "sns.distplot(df['Ownership'])\n",
    "plt.show()"
   ]
  },
  {
   "cell_type": "code",
   "execution_count": 81,
   "id": "284e16ed",
   "metadata": {},
   "outputs": [
    {
     "data": {
      "image/png": "[encoded data removed]",
      "text/plain": [
       "<Figure size 576x432 with 1 Axes>"
      ]
     },
     "metadata": {
      "needs_background": "light"
     },
     "output_type": "display_data"
    }
   ],
   "source": [
    "plt.figure(figsize=(8,6))\n",
    "sns.distplot(df['EMI (monthly)'])\n",
    "plt.show()"
   ]
  },
  {
   "cell_type": "markdown",
   "id": "aafb66f1",
   "metadata": {},
   "source": [
    "# Standerd Scaler Method:"
   ]
  },
  {
   "cell_type": "code",
   "execution_count": 82,
   "id": "84c1c8f1",
   "metadata": {},
   "outputs": [],
   "source": [
    "from sklearn.preprocessing import StandardScaler"
   ]
  },
  {
   "cell_type": "code",
   "execution_count": 83,
   "id": "97a588ea",
   "metadata": {},
   "outputs": [],
   "source": [
    "scaler = StandardScaler()\n",
    "scaled_X = scaler.fit_transform(df)"
   ]
  },
  {
   "cell_type": "code",
   "execution_count": 84,
   "id": "9c60ff26",
   "metadata": {},
   "outputs": [
    {
     "data": {
      "text/plain": [
       "array([[ 0.42987275, -1.29069206,  0.01097528, ...,  0.40185122,\n",
       "        -0.47568303,  0.01100539],\n",
       "       [-1.2132264 ,  0.16873452, -0.30848932, ..., -1.99548298,\n",
       "         2.10224021, -0.30841746],\n",
       "       [ 0.42987275,  0.94960852, -0.46380732, ...,  0.40185122,\n",
       "         2.10224021, -0.4637925 ],\n",
       "       ...,\n",
       "       [ 0.42987275, -1.12913192,  0.23724908, ...,  0.40185122,\n",
       "        -0.47568303,  0.23723263],\n",
       "       [ 1.36878655,  0.58340554,  1.50006616, ..., -1.99548298,\n",
       "        -0.47568303,  1.50007744],\n",
       "       [ 1.1340581 ,  0.28182662, -0.81335457, ...,  0.40185122,\n",
       "        -0.47568303, -0.81334959]])"
      ]
     },
     "execution_count": 84,
     "metadata": {},
     "output_type": "execute_result"
    }
   ],
   "source": [
    "scaled_X"
   ]
  },
  {
   "cell_type": "markdown",
   "id": "1671c2b6",
   "metadata": {},
   "source": [
    "# Principle Component Analysis:"
   ]
  },
  {
   "cell_type": "code",
   "execution_count": 85,
   "id": "ea9472a9",
   "metadata": {},
   "outputs": [],
   "source": [
    "from sklearn.decomposition import PCA\n",
    "pca = PCA()"
   ]
  },
  {
   "cell_type": "code",
   "execution_count": 86,
   "id": "1dc888a2",
   "metadata": {},
   "outputs": [],
   "source": [
    "data_pca = pca.fit(scaled_X)"
   ]
  },
  {
   "cell_type": "code",
   "execution_count": 87,
   "id": "ffcaed0f",
   "metadata": {},
   "outputs": [
    {
     "data": {
      "text/plain": [
       "array([2.56080899e-01, 1.71107189e-01, 1.12156798e-01, 1.01262173e-01,\n",
       "       9.87489437e-02, 9.04903260e-02, 7.95275726e-02, 5.05315853e-02,\n",
       "       4.00945138e-02, 9.04401110e-11])"
      ]
     },
     "execution_count": 87,
     "metadata": {},
     "output_type": "execute_result"
    }
   ],
   "source": [
    "data_pca.explained_variance_ratio_"
   ]
  },
  {
   "cell_type": "code",
   "execution_count": 88,
   "id": "e23e6c47",
   "metadata": {},
   "outputs": [
    {
     "data": {
      "text/plain": [
       "array([ 25.60808993,  42.71880879,  53.93448857,  64.06070584,\n",
       "        73.93560022,  82.98463282,  90.93739008,  95.99054861,\n",
       "        99.99999999, 100.        ])"
      ]
     },
     "execution_count": 88,
     "metadata": {},
     "output_type": "execute_result"
    }
   ],
   "source": [
    "var_component = np.cumsum(data_pca.explained_variance_ratio_)*100\n",
    "var_component"
   ]
  },
  {
   "cell_type": "code",
   "execution_count": 89,
   "id": "b3e8f876",
   "metadata": {},
   "outputs": [
    {
     "name": "stdout",
     "output_type": "stream",
     "text": [
      "Number of components explaining 99% variance: 8\n"
     ]
    }
   ],
   "source": [
    "#finding cumulative variance\n",
    "k = np.argmax(var_component>99)\n",
    "print('Number of components explaining 99% variance:',k)"
   ]
  },
  {
   "cell_type": "code",
   "execution_count": 90,
   "id": "3894952d",
   "metadata": {},
   "outputs": [
    {
     "data": {
      "image/png": "[encoded data removed]",
      "text/plain": [
       "<Figure size 720x432 with 1 Axes>"
      ]
     },
     "metadata": {
      "needs_background": "light"
     },
     "output_type": "display_data"
    }
   ],
   "source": [
    "#ploting cumulative variance\n",
    "plt.figure(figsize=(10,6))\n",
    "plt.ylabel('Cumulative Explained varience')\n",
    "plt.xlabel('Principle components')\n",
    "plt.axvline(x=k, color='k',linestyle='--')\n",
    "plt.axhline(y=9, color='r',linestyle='--')\n",
    "plt.plot(var_component)\n",
    "plt.show()"
   ]
  },
  {
   "cell_type": "markdown",
   "id": "7c5a6372",
   "metadata": {},
   "source": [
    "# Model Building:"
   ]
  },
  {
   "cell_type": "code",
   "execution_count": 228,
   "id": "bdf5bca7",
   "metadata": {},
   "outputs": [],
   "source": [
    "from sklearn.model_selection import train_test_split\n",
    "from sklearn.linear_model import LinearRegression\n",
    "from sklearn.neighbors import KNeighborsRegressor\n",
    "from sklearn.tree import DecisionTreeRegressor\n",
    "from sklearn.ensemble import RandomForestRegressor,AdaBoostRegressor, GradientBoostingRegressor\n",
    "from sklearn.metrics import accuracy_score\n",
    "from sklearn.model_selection import GridSearchCV,cross_val_score\n",
    "from sklearn.metrics import mean_absolute_error\n",
    "from sklearn.metrics import mean_squared_error\n",
    "from sklearn.metrics import r2_score\n",
    "from sklearn import metrics\n",
    "from sklearn.svm import SVR\n",
    "from xgboost import XGBRegressor"
   ]
  },
  {
   "cell_type": "markdown",
   "id": "38144823",
   "metadata": {},
   "source": [
    "# Spliting Data:"
   ]
  },
  {
   "cell_type": "code",
   "execution_count": 172,
   "id": "8133028d",
   "metadata": {},
   "outputs": [],
   "source": [
    "X = df.drop(columns = ['Price'])\n",
    "y = df['Price']"
   ]
  },
  {
   "cell_type": "code",
   "execution_count": 174,
   "id": "8b72630c",
   "metadata": {},
   "outputs": [
    {
     "name": "stdout",
     "output_type": "stream",
     "text": [
      "Maximum r2 score is  0.9999999985465633  on Random_state  56\n"
     ]
    }
   ],
   "source": [
    "from sklearn.linear_model import LinearRegression\n",
    "maxAccu=0\n",
    "maxRS=0\n",
    "for i in range(1,200):\n",
    "    X_train,X_test,y_train,y_test = train_test_split(X,y,test_size=.30,random_state=i)\n",
    "    model = LinearRegression()\n",
    "    model.fit(X_train,y_train)\n",
    "    pred=model.predict(X_test)\n",
    "    acc=r2_score(y_test,pred)\n",
    "    if acc>maxAccu:\n",
    "        maxAccu=acc\n",
    "        maxRS=i\n",
    "print(\"Maximum r2 score is \",maxAccu,\" on Random_state \",maxRS)"
   ]
  },
  {
   "cell_type": "code",
   "execution_count": 175,
   "id": "e3ed9b6c",
   "metadata": {},
   "outputs": [],
   "source": [
    "X_train,X_test,y_train,y_test = train_test_split(scaled_X, y, test_size=0.30, random_state=56)"
   ]
  },
  {
   "cell_type": "markdown",
   "id": "53779f70",
   "metadata": {},
   "source": [
    "# Linear Regression"
   ]
  },
  {
   "cell_type": "code",
   "execution_count": 184,
   "id": "f1ae957a",
   "metadata": {},
   "outputs": [
    {
     "data": {
      "text/plain": [
       "LinearRegression()"
      ]
     },
     "execution_count": 184,
     "metadata": {},
     "output_type": "execute_result"
    }
   ],
   "source": [
    "Lr = LinearRegression()\n",
    "Lr.fit(X_train,y_train)"
   ]
  },
  {
   "cell_type": "code",
   "execution_count": 185,
   "id": "2f476ab9",
   "metadata": {},
   "outputs": [
    {
     "data": {
      "text/plain": [
       "1.0"
      ]
     },
     "execution_count": 185,
     "metadata": {},
     "output_type": "execute_result"
    }
   ],
   "source": [
    "Lr.score(X_train,y_train)"
   ]
  },
  {
   "cell_type": "code",
   "execution_count": 186,
   "id": "3a6d2b10",
   "metadata": {},
   "outputs": [],
   "source": [
    "pred_Lr = Lr.predict(X_test)"
   ]
  },
  {
   "cell_type": "code",
   "execution_count": 187,
   "id": "46a2b075",
   "metadata": {},
   "outputs": [
    {
     "name": "stdout",
     "output_type": "stream",
     "text": [
      "R2_Score: 1.0\n",
      "MAE: 2.4620267386372026e-10\n",
      "MSE: 9.799637034810563e-20\n",
      "RMSE: 3.1304371954745493e-10\n"
     ]
    }
   ],
   "source": [
    "print('R2_Score:',r2_score(y_test,pred_Lr))\n",
    "print('MAE:',metrics.mean_absolute_error(y_test, pred_Lr))\n",
    "print('MSE:',metrics.mean_squared_error(y_test, pred_Lr))\n",
    "print(\"RMSE:\",np.sqrt(metrics.mean_squared_error(y_test, pred_Lr)))"
   ]
  },
  {
   "cell_type": "markdown",
   "id": "eea87794",
   "metadata": {},
   "source": [
    "# DecisionTreeRegressor"
   ]
  },
  {
   "cell_type": "code",
   "execution_count": 199,
   "id": "5bad2351",
   "metadata": {},
   "outputs": [
    {
     "data": {
      "text/plain": [
       "DecisionTreeRegressor()"
      ]
     },
     "execution_count": 199,
     "metadata": {},
     "output_type": "execute_result"
    }
   ],
   "source": [
    "dtc = DecisionTreeRegressor()\n",
    "dtc.fit(X_train,y_train)"
   ]
  },
  {
   "cell_type": "code",
   "execution_count": 200,
   "id": "246a1e89",
   "metadata": {},
   "outputs": [
    {
     "data": {
      "text/plain": [
       "1.0"
      ]
     },
     "execution_count": 200,
     "metadata": {},
     "output_type": "execute_result"
    }
   ],
   "source": [
    "dtc.score(X_train,y_train)"
   ]
  },
  {
   "cell_type": "code",
   "execution_count": 201,
   "id": "4fe6ba34",
   "metadata": {},
   "outputs": [],
   "source": [
    "pred_dtc = dtc.predict(X_test)"
   ]
  },
  {
   "cell_type": "code",
   "execution_count": 202,
   "id": "afebec9e",
   "metadata": {},
   "outputs": [
    {
     "name": "stdout",
     "output_type": "stream",
     "text": [
      "R2_Score: 0.9835683436467052\n",
      "MAE: 2749.2105855855857\n",
      "MSE: 1766944785.1362612\n",
      "RMSE: 42035.04234726381\n"
     ]
    }
   ],
   "source": [
    "print('R2_Score:',r2_score(y_test,pred_dtc))\n",
    "print('MAE:',metrics.mean_absolute_error(y_test, pred_dtc))\n",
    "print('MSE:',metrics.mean_squared_error(y_test, pred_dtc))\n",
    "print(\"RMSE:\",np.sqrt(metrics.mean_squared_error(y_test, pred_dtc)))"
   ]
  },
  {
   "cell_type": "markdown",
   "id": "03ebf71e",
   "metadata": {},
   "source": [
    "# KNeighborsRegressor"
   ]
  },
  {
   "cell_type": "code",
   "execution_count": 219,
   "id": "31333d2f",
   "metadata": {},
   "outputs": [],
   "source": [
    "knn = KNeighborsRegressor()"
   ]
  },
  {
   "cell_type": "code",
   "execution_count": 220,
   "id": "f81ef7a3",
   "metadata": {},
   "outputs": [
    {
     "data": {
      "text/plain": [
       "KNeighborsRegressor()"
      ]
     },
     "execution_count": 220,
     "metadata": {},
     "output_type": "execute_result"
    }
   ],
   "source": [
    "knn.fit(X_train,y_train)"
   ]
  },
  {
   "cell_type": "code",
   "execution_count": null,
   "id": "aa7e4102",
   "metadata": {},
   "outputs": [],
   "source": [
    "pred_knn = knn.predict(X_test)"
   ]
  },
  {
   "cell_type": "code",
   "execution_count": 222,
   "id": "70280b1d",
   "metadata": {},
   "outputs": [
    {
     "name": "stdout",
     "output_type": "stream",
     "text": [
      "R2_Score: 0.8429284982891683\n",
      "MAE: 85010.69707207207\n",
      "MSE: 16890364846.622747\n",
      "RMSE: 129962.93643428787\n"
     ]
    }
   ],
   "source": [
    "print('R2_Score:',r2_score(y_test,pred_knn))\n",
    "print('MAE:',metrics.mean_absolute_error(y_test, pred_knn))\n",
    "print('MSE:',metrics.mean_squared_error(y_test, pred_knn))\n",
    "print(\"RMSE:\",np.sqrt(metrics.mean_squared_error(y_test, pred_knn)))"
   ]
  },
  {
   "cell_type": "markdown",
   "id": "e399c9fc",
   "metadata": {},
   "source": [
    "# RandomForestRegressor"
   ]
  },
  {
   "cell_type": "code",
   "execution_count": 209,
   "id": "fa287f5c",
   "metadata": {},
   "outputs": [],
   "source": [
    "rf = RandomForestRegressor()"
   ]
  },
  {
   "cell_type": "code",
   "execution_count": 210,
   "id": "948ebd1f",
   "metadata": {},
   "outputs": [
    {
     "data": {
      "text/plain": [
       "RandomForestRegressor()"
      ]
     },
     "execution_count": 210,
     "metadata": {},
     "output_type": "execute_result"
    }
   ],
   "source": [
    "rf.fit(X_train,y_train)"
   ]
  },
  {
   "cell_type": "code",
   "execution_count": 211,
   "id": "73375bea",
   "metadata": {},
   "outputs": [
    {
     "data": {
      "text/plain": [
       "0.9999714695025741"
      ]
     },
     "execution_count": 211,
     "metadata": {},
     "output_type": "execute_result"
    }
   ],
   "source": [
    "rf.score(X_train,y_train)"
   ]
  },
  {
   "cell_type": "code",
   "execution_count": 212,
   "id": "4cc452f7",
   "metadata": {},
   "outputs": [],
   "source": [
    "pred_rf = rf.predict(X_test)"
   ]
  },
  {
   "cell_type": "code",
   "execution_count": 213,
   "id": "53cbf13c",
   "metadata": {},
   "outputs": [
    {
     "name": "stdout",
     "output_type": "stream",
     "text": [
      "R2_Score: 0.9843984690010383\n",
      "MAE: 2530.5822072072074\n",
      "MSE: 1677678941.552928\n",
      "RMSE: 40959.47926369338\n"
     ]
    }
   ],
   "source": [
    "print('R2_Score:',r2_score(y_test,pred_rf))\n",
    "print('MAE:',metrics.mean_absolute_error(y_test, pred_rf))\n",
    "print('MSE:',metrics.mean_squared_error(y_test, pred_rf))\n",
    "print(\"RMSE:\",np.sqrt(metrics.mean_squared_error(y_test, pred_rf)))"
   ]
  },
  {
   "cell_type": "markdown",
   "id": "78ad23c9",
   "metadata": {},
   "source": [
    "# AdaBoostRegressor"
   ]
  },
  {
   "cell_type": "code",
   "execution_count": 215,
   "id": "40d577e6",
   "metadata": {},
   "outputs": [
    {
     "data": {
      "text/plain": [
       "AdaBoostRegressor()"
      ]
     },
     "execution_count": 215,
     "metadata": {},
     "output_type": "execute_result"
    }
   ],
   "source": [
    "ad = AdaBoostRegressor()\n",
    "ad.fit(X_train,y_train)"
   ]
  },
  {
   "cell_type": "code",
   "execution_count": 216,
   "id": "126adfd8",
   "metadata": {},
   "outputs": [
    {
     "data": {
      "text/plain": [
       "0.9918299534724435"
      ]
     },
     "execution_count": 216,
     "metadata": {},
     "output_type": "execute_result"
    }
   ],
   "source": [
    "ad.score(X_train,y_train)"
   ]
  },
  {
   "cell_type": "code",
   "execution_count": 217,
   "id": "996c115e",
   "metadata": {},
   "outputs": [],
   "source": [
    "pred_ad = ad.predict(X_test)"
   ]
  },
  {
   "cell_type": "code",
   "execution_count": 218,
   "id": "78929685",
   "metadata": {},
   "outputs": [
    {
     "name": "stdout",
     "output_type": "stream",
     "text": [
      "R2_Score: 0.978032756231073\n",
      "MAE: 23486.08486689315\n",
      "MSE: 2362202932.362304\n",
      "RMSE: 48602.499239877616\n"
     ]
    }
   ],
   "source": [
    "print('R2_Score:',r2_score(y_test,pred_ad))\n",
    "print('MAE:',metrics.mean_absolute_error(y_test, pred_ad))\n",
    "print('MSE:',metrics.mean_squared_error(y_test, pred_ad))\n",
    "print(\"RMSE:\",np.sqrt(metrics.mean_squared_error(y_test, pred_ad)))"
   ]
  },
  {
   "cell_type": "markdown",
   "id": "5d8bc779",
   "metadata": {},
   "source": [
    "# GradientBoostingRegressor"
   ]
  },
  {
   "cell_type": "code",
   "execution_count": 223,
   "id": "0012a71f",
   "metadata": {},
   "outputs": [
    {
     "data": {
      "text/plain": [
       "GradientBoostingRegressor()"
      ]
     },
     "execution_count": 223,
     "metadata": {},
     "output_type": "execute_result"
    }
   ],
   "source": [
    "grd =  GradientBoostingRegressor()\n",
    "grd.fit(X_train,y_train)"
   ]
  },
  {
   "cell_type": "code",
   "execution_count": 224,
   "id": "ff9acae8",
   "metadata": {},
   "outputs": [
    {
     "data": {
      "text/plain": [
       "0.9999353988391735"
      ]
     },
     "execution_count": 224,
     "metadata": {},
     "output_type": "execute_result"
    }
   ],
   "source": [
    "grd.score(X_train,y_train)"
   ]
  },
  {
   "cell_type": "code",
   "execution_count": 226,
   "id": "c036c698",
   "metadata": {},
   "outputs": [],
   "source": [
    "pred_grd = grd.predict(X_test)"
   ]
  },
  {
   "cell_type": "code",
   "execution_count": 227,
   "id": "80c676b1",
   "metadata": {},
   "outputs": [
    {
     "name": "stdout",
     "output_type": "stream",
     "text": [
      "R2_Score: 0.9873620759126852\n",
      "MAE: 3685.7717838249187\n",
      "MSE: 1358993492.8593624\n",
      "RMSE: 36864.52892496203\n"
     ]
    }
   ],
   "source": [
    "print('R2_Score:',r2_score(y_test,pred_grd))\n",
    "print('MAE:',metrics.mean_absolute_error(y_test, pred_grd))\n",
    "print('MSE:',metrics.mean_squared_error(y_test, pred_grd))\n",
    "print(\"RMSE:\",np.sqrt(metrics.mean_squared_error(y_test, pred_grd)))"
   ]
  },
  {
   "cell_type": "markdown",
   "id": "667bde3e",
   "metadata": {},
   "source": [
    "# XGBRegressor"
   ]
  },
  {
   "cell_type": "code",
   "execution_count": 229,
   "id": "46e03e73",
   "metadata": {},
   "outputs": [
    {
     "data": {
      "text/plain": [
       "XGBRegressor(base_score=0.5, booster='gbtree', colsample_bylevel=1,\n",
       "             colsample_bynode=1, colsample_bytree=1, enable_categorical=False,\n",
       "             gamma=0, gpu_id=-1, importance_type=None,\n",
       "             interaction_constraints='', learning_rate=0.300000012,\n",
       "             max_delta_step=0, max_depth=6, min_child_weight=1, missing=nan,\n",
       "             monotone_constraints='()', n_estimators=100, n_jobs=8,\n",
       "             num_parallel_tree=1, predictor='auto', random_state=0, reg_alpha=0,\n",
       "             reg_lambda=1, scale_pos_weight=1, subsample=1, tree_method='exact',\n",
       "             validate_parameters=1, verbosity=None)"
      ]
     },
     "execution_count": 229,
     "metadata": {},
     "output_type": "execute_result"
    }
   ],
   "source": [
    "xg =  XGBRegressor()\n",
    "xg.fit(X_train,y_train)"
   ]
  },
  {
   "cell_type": "code",
   "execution_count": 230,
   "id": "4a5581a4",
   "metadata": {},
   "outputs": [
    {
     "data": {
      "text/plain": [
       "0.9999929366369495"
      ]
     },
     "execution_count": 230,
     "metadata": {},
     "output_type": "execute_result"
    }
   ],
   "source": [
    "xg.score(X_train,y_train)"
   ]
  },
  {
   "cell_type": "code",
   "execution_count": 233,
   "id": "b33e6d97",
   "metadata": {},
   "outputs": [],
   "source": [
    "pred_xg = xg.predict(X_test)"
   ]
  },
  {
   "cell_type": "code",
   "execution_count": 234,
   "id": "99f735f5",
   "metadata": {},
   "outputs": [
    {
     "name": "stdout",
     "output_type": "stream",
     "text": [
      "R2_Score: 0.9862582734370778\n",
      "MAE: 4017.365938203829\n",
      "MSE: 1477688649.7054315\n",
      "RMSE: 38440.716040488\n"
     ]
    }
   ],
   "source": [
    "print('R2_Score:',r2_score(y_test,pred_xg))\n",
    "print('MAE:',metrics.mean_absolute_error(y_test, pred_xg))\n",
    "print('MSE:',metrics.mean_squared_error(y_test, pred_xg))\n",
    "print(\"RMSE:\",np.sqrt(metrics.mean_squared_error(y_test, pred_xg)))"
   ]
  },
  {
   "cell_type": "markdown",
   "id": "d17bd866",
   "metadata": {},
   "source": [
    "# SVR"
   ]
  },
  {
   "cell_type": "code",
   "execution_count": 235,
   "id": "ccf385e7",
   "metadata": {},
   "outputs": [
    {
     "data": {
      "text/plain": [
       "SVR()"
      ]
     },
     "execution_count": 235,
     "metadata": {},
     "output_type": "execute_result"
    }
   ],
   "source": [
    "sv = SVR()\n",
    "sv.fit(X_train,y_train)"
   ]
  },
  {
   "cell_type": "code",
   "execution_count": 239,
   "id": "22edd97a",
   "metadata": {},
   "outputs": [],
   "source": [
    "pred_sv = sv.predict(X_test)"
   ]
  },
  {
   "cell_type": "code",
   "execution_count": 240,
   "id": "ccdaa7b1",
   "metadata": {},
   "outputs": [
    {
     "name": "stdout",
     "output_type": "stream",
     "text": [
      "R2_Score: -0.08595045212027808\n",
      "MAE: 210364.2432202676\n",
      "MSE: 116775475766.66196\n",
      "RMSE: 341724.26862407936\n"
     ]
    }
   ],
   "source": [
    "print('R2_Score:',r2_score(y_test,pred_sv))\n",
    "print('MAE:',metrics.mean_absolute_error(y_test, pred_sv))\n",
    "print('MSE:',metrics.mean_squared_error(y_test, pred_sv))\n",
    "print(\"RMSE:\",np.sqrt(metrics.mean_squared_error(y_test, pred_sv)))"
   ]
  },
  {
   "cell_type": "markdown",
   "id": "2f32f465",
   "metadata": {},
   "source": [
    "# Cross Validation Score"
   ]
  },
  {
   "cell_type": "code",
   "execution_count": 241,
   "id": "4fa06e4e",
   "metadata": {},
   "outputs": [
    {
     "name": "stdout",
     "output_type": "stream",
     "text": [
      "0.9999999976897763\n"
     ]
    }
   ],
   "source": [
    "# Checking cv score for Linear Regression\n",
    "print(cross_val_score(Lr,X,y,cv=5).mean())"
   ]
  },
  {
   "cell_type": "code",
   "execution_count": 244,
   "id": "7bcb6642",
   "metadata": {},
   "outputs": [
    {
     "name": "stdout",
     "output_type": "stream",
     "text": [
      "0.9978963896158348\n"
     ]
    }
   ],
   "source": [
    "# Checking cv score for DecisiontressRegression\n",
    "print(cross_val_score(dtc,X,y,cv=5).mean())"
   ]
  },
  {
   "cell_type": "code",
   "execution_count": 246,
   "id": "0267a819",
   "metadata": {},
   "outputs": [
    {
     "name": "stdout",
     "output_type": "stream",
     "text": [
      "0.9966917937662778\n"
     ]
    }
   ],
   "source": [
    "# Checking cv score for randomforestRegression\n",
    "print(cross_val_score(rf,X,y,cv=5).mean())"
   ]
  },
  {
   "cell_type": "code",
   "execution_count": 247,
   "id": "02b009aa",
   "metadata": {},
   "outputs": [
    {
     "name": "stdout",
     "output_type": "stream",
     "text": [
      "0.982066125813357\n"
     ]
    }
   ],
   "source": [
    "# Checking cv score for AdaBoostRegressor\n",
    "print(cross_val_score(ad,X,y,cv=5).mean())"
   ]
  },
  {
   "cell_type": "code",
   "execution_count": 248,
   "id": "29c35a2e",
   "metadata": {},
   "outputs": [
    {
     "name": "stdout",
     "output_type": "stream",
     "text": [
      "0.9978823937502662\n"
     ]
    }
   ],
   "source": [
    "# Checking cv score for GradientBoostingRegressor\n",
    "print(cross_val_score(grd,X,y,cv=5).mean())"
   ]
  },
  {
   "cell_type": "code",
   "execution_count": 251,
   "id": "8f4ea8bd",
   "metadata": {},
   "outputs": [
    {
     "name": "stdout",
     "output_type": "stream",
     "text": [
      "-0.09799840899638257\n"
     ]
    }
   ],
   "source": [
    "#Checking cv score for svr\n",
    "print(cross_val_score(sv,X,y,cv=5).mean())"
   ]
  },
  {
   "cell_type": "markdown",
   "id": "5ebe7b5c",
   "metadata": {},
   "source": [
    "### All the models performances are near to each others. Since, in most of the scenarios RandomForestRegressor is best, We will tune parameters for it and check its performance"
   ]
  },
  {
   "cell_type": "markdown",
   "id": "9ed5ef9a",
   "metadata": {},
   "source": [
    "# HyperParameter Tuning:"
   ]
  },
  {
   "cell_type": "code",
   "execution_count": 252,
   "id": "6120e687",
   "metadata": {},
   "outputs": [],
   "source": [
    "params  = {'n_estimators' : [300, 500, 700, 1000, 2100],\n",
    "            'max_depth' : [3, 5, 7, 9, 11, 13, 15],\n",
    "            'max_features' : [\"auto\", \"sqrt\", \"log2\"],\n",
    "            'min_samples_split' : [2, 4, 6, 8]}"
   ]
  },
  {
   "cell_type": "code",
   "execution_count": 253,
   "id": "ef5434db",
   "metadata": {},
   "outputs": [],
   "source": [
    "GCV = GridSearchCV(RandomForestRegressor(),param_grid = params, scoring ='r2', cv=5)"
   ]
  },
  {
   "cell_type": "code",
   "execution_count": 256,
   "id": "b41ccb00",
   "metadata": {},
   "outputs": [
    {
     "data": {
      "text/plain": [
       "GridSearchCV(cv=5, estimator=RandomForestRegressor(),\n",
       "             param_grid={'max_depth': [3, 5, 7, 9, 11, 13, 15],\n",
       "                         'max_features': ['auto', 'sqrt', 'log2'],\n",
       "                         'min_samples_split': [2, 4, 6, 8],\n",
       "                         'n_estimators': [300, 500, 700, 1000, 2100]},\n",
       "             scoring='r2')"
      ]
     },
     "execution_count": 256,
     "metadata": {},
     "output_type": "execute_result"
    }
   ],
   "source": [
    "GCV.fit(X,y)"
   ]
  },
  {
   "cell_type": "code",
   "execution_count": 257,
   "id": "e1309130",
   "metadata": {},
   "outputs": [
    {
     "data": {
      "text/plain": [
       "{'max_depth': 15,\n",
       " 'max_features': 'auto',\n",
       " 'min_samples_split': 2,\n",
       " 'n_estimators': 500}"
      ]
     },
     "execution_count": 257,
     "metadata": {},
     "output_type": "execute_result"
    }
   ],
   "source": [
    "GCV.best_params_"
   ]
  },
  {
   "cell_type": "code",
   "execution_count": 259,
   "id": "ca75d687",
   "metadata": {},
   "outputs": [
    {
     "data": {
      "text/plain": [
       "RandomForestRegressor(max_depth=15, n_estimators=1000)"
      ]
     },
     "execution_count": 259,
     "metadata": {},
     "output_type": "execute_result"
    }
   ],
   "source": [
    "final_model = RandomForestRegressor(n_estimators = 1000, max_depth = 15, max_features = 'auto', min_samples_split = 2)\n",
    "\n",
    "final_model.fit(X,y)"
   ]
  },
  {
   "cell_type": "code",
   "execution_count": 260,
   "id": "66d3a9a9",
   "metadata": {},
   "outputs": [
    {
     "data": {
      "text/plain": [
       "0.9993966105577493"
      ]
     },
     "execution_count": 260,
     "metadata": {},
     "output_type": "execute_result"
    }
   ],
   "source": [
    "final_model.score(X,y)"
   ]
  },
  {
   "cell_type": "markdown",
   "id": "3447f132",
   "metadata": {},
   "source": [
    "# Saving"
   ]
  },
  {
   "cell_type": "code",
   "execution_count": 300,
   "id": "f6264c80",
   "metadata": {},
   "outputs": [
    {
     "data": {
      "text/plain": [
       "['UsedCarPricePrediction.pkl']"
      ]
     },
     "execution_count": 300,
     "metadata": {},
     "output_type": "execute_result"
    }
   ],
   "source": [
    "import joblib\n",
    "joblib.dump(final_model,'UsedCarPricePrediction.pkl')"
   ]
  },
  {
   "cell_type": "markdown",
   "id": "2c6f9cbd",
   "metadata": {},
   "source": [
    "# !!!! THANK YOU !!!!"
   ]
  },
  {
   "cell_type": "code",
   "execution_count": null,
   "id": "d54d82fe",
   "metadata": {},
   "outputs": [],
   "source": []
  }
 ],
 "metadata": {
  "kernelspec": {
   "display_name": "Python 3",
   "language": "python",
   "name": "python3"
  },
  "language_info": {
   "codemirror_mode": {
    "name": "ipython",
    "version": 3
   },
   "file_extension": ".py",
   "mimetype": "text/x-python",
   "name": "python",
   "nbconvert_exporter": "python",
   "pygments_lexer": "ipython3",
   "version": "3.8.8"
  }
 },
 "nbformat": 4,
 "nbformat_minor": 5
}
